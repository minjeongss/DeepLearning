{
  "nbformat": 4,
  "nbformat_minor": 0,
  "metadata": {
    "colab": {
      "name": "L01_MachineLearningBasics.ipynb",
      "provenance": [],
      "collapsed_sections": [],
      "authorship_tag": "ABX9TyPP6yG8qxby72LzZsBRurYl"
    },
    "kernelspec": {
      "name": "python3",
      "display_name": "Python 3"
    },
    "language_info": {
      "name": "python"
    }
  },
  "cells": [
    {
      "cell_type": "markdown",
      "source": [
        "### Check installation and version"
      ],
      "metadata": {
        "id": "nZl6DXjbt-Yb"
      }
    },
    {
      "cell_type": "code",
      "execution_count": 1,
      "metadata": {
        "colab": {
          "base_uri": "https://localhost:8080/",
          "height": 35
        },
        "id": "4ps0XSE7s8RW",
        "outputId": "025f7e0a-ad60-4681-b101-0f06f1d12f91"
      },
      "outputs": [
        {
          "output_type": "execute_result",
          "data": {
            "text/plain": [
              "'2.8.0'"
            ],
            "application/vnd.google.colaboratory.intrinsic+json": {
              "type": "string"
            }
          },
          "metadata": {},
          "execution_count": 1
        }
      ],
      "source": [
        "import tensorflow as tf\n",
        "tf.__version__"
      ]
    },
    {
      "cell_type": "markdown",
      "source": [
        "## TensorFlow Basic"
      ],
      "metadata": {
        "id": "4Uwy4zxGuDOv"
      }
    },
    {
      "cell_type": "markdown",
      "source": [
        "### Hello World!"
      ],
      "metadata": {
        "id": "hd4wgsnrxX9b"
      }
    },
    {
      "cell_type": "code",
      "source": [
        "hello=tf.constant(\"Hello, TensorFlow!\")\n",
        "\n",
        "#강의에선 다음과 같이 정의\n",
        "#sess=tf.Session()\n",
        "#print(sess.run(hello))\n",
        "\n",
        "#But 오류 발생\n",
        "#이유: 위의 정의는 버전 1.x.x에 해당하는 것임\n",
        "\n",
        "#사용방법\n",
        "tf.print(hello)"
      ],
      "metadata": {
        "colab": {
          "base_uri": "https://localhost:8080/"
        },
        "id": "WhzrPXTytv_q",
        "outputId": "66316c67-b848-4884-8c58-dbcd1a2744eb"
      },
      "execution_count": 2,
      "outputs": [
        {
          "output_type": "stream",
          "name": "stdout",
          "text": [
            "Hello, TensorFlow!\n"
          ]
        }
      ]
    },
    {
      "cell_type": "code",
      "source": [
        "#추가적인 사용방법(꼭 Session을 사용해주고 싶다면)\n",
        "with tf.compat.v1.Session() as sess:\n",
        "  hello=tf.constant(\"Hello, TensorFlow!\")\n",
        "  print(sess.run(hello))"
      ],
      "metadata": {
        "colab": {
          "base_uri": "https://localhost:8080/"
        },
        "id": "EinivYlHwDl8",
        "outputId": "af582c04-daf4-4c82-c663-872bd5bc5b8e"
      },
      "execution_count": 3,
      "outputs": [
        {
          "output_type": "stream",
          "name": "stdout",
          "text": [
            "b'Hello, TensorFlow!'\n"
          ]
        }
      ]
    },
    {
      "cell_type": "markdown",
      "source": [
        "### Computational Graph\n",
        "#### 과정\n",
        "1. Build graph\n",
        "2. Feed data and Run graph\n",
        "3. Update variables in graph OR Return values"
      ],
      "metadata": {
        "id": "nO3eAxRNxQao"
      }
    },
    {
      "cell_type": "code",
      "source": [
        "node1=tf.constant(3.0,tf.float32)\n",
        "node2=tf.constant(4.0)\n",
        "node3=tf.add(node1,node2)\n",
        "#또는\n",
        "#node3=node1+node2"
      ],
      "metadata": {
        "id": "TlinRRDBxTMr"
      },
      "execution_count": 9,
      "outputs": []
    },
    {
      "cell_type": "code",
      "source": [
        "tf.print(\"sess.run(node1,node2): \",[node1,node2])\n",
        "tf.print(\"sess.run(node3): \",node3)"
      ],
      "metadata": {
        "colab": {
          "base_uri": "https://localhost:8080/"
        },
        "id": "aMG9QuEhxqic",
        "outputId": "4966964e-22e0-402f-b14b-b7b59153c052"
      },
      "execution_count": 10,
      "outputs": [
        {
          "output_type": "stream",
          "name": "stdout",
          "text": [
            "sess.run(node1,node2):  [3, 4]\n",
            "sess.run(node3):  7\n"
          ]
        }
      ]
    },
    {
      "cell_type": "markdown",
      "source": [
        "### Placeholder\n",
        ": 그래프의 틀을 먼저 만들고, 후에 값을 대입하는 방법"
      ],
      "metadata": {
        "id": "bwrptERW254J"
      }
    },
    {
      "cell_type": "code",
      "source": [
        "#강의에서 다음과 같이 정의\n",
        "#a=tf.placeholder(tf.float32)\n",
        "#b=tf.placeholder(tf.float32)\n",
        "\n",
        "#But 오류 발생\n",
        "#이유: 위의 정의는 version 1.x.x에서 해당하는 것임\n",
        "\n",
        "#사용 방법(version 1의 것을 사용)\n",
        "import tensorflow.compat.v1 as tf\n",
        "\n",
        "with tf.Session() as sess:\n",
        "  a=tf.placeholder(tf.float32)\n",
        "  b=tf.placeholder(tf.float32)\n",
        "  adder_node=a+b\n",
        "  print(sess.run(adder_node,feed_dict={a:3,b:4.5}))\n",
        "  print(sess.run(adder_node,feed_dict={a:[1,3],b:[2,4]}))"
      ],
      "metadata": {
        "colab": {
          "base_uri": "https://localhost:8080/"
        },
        "id": "5rWA9y9N27qv",
        "outputId": "7c68953a-1956-4962-e9dd-8a2b5daa048e"
      },
      "execution_count": 18,
      "outputs": [
        {
          "output_type": "stream",
          "name": "stdout",
          "text": [
            "7.5\n",
            "[3. 7.]\n"
          ]
        }
      ]
    },
    {
      "cell_type": "markdown",
      "source": [
        "### Tesnor\n",
        ": 모든 요소들을 의미함\n",
        "\n",
        "### Tensor Rank, Shape, and Types\n",
        "+ Rank: 몇 차원의 Array로 구성되어 있는가\n",
        "+ Shape: 각각 element에 몇 개씩 들어있는가?\n",
        "+ Type: 어떤 data type으로 구성되어 있는가\n",
        "  + float32 (float 중에서 주로 사용됨)\n",
        "  + int32 (int 중에서 주로 사용됨)"
      ],
      "metadata": {
        "id": "IQOdIWAc93IY"
      }
    },
    {
      "cell_type": "code",
      "source": [
        "3 #rank가 0, shape []의 scalar인 tensor\n",
        "[1.,2.,3.] #rank가 1, shape [3]의 vector인 tensor\n",
        "[[1.,2.,3.],[4.,5.,6.]] #rank가 2, shape [2,3]의 matrix인 tensor\n",
        "[[[1.,2.,3.]],[[7.,8.,9.]]] #rank가 3, shape [2,1,3]인 tensor"
      ],
      "metadata": {
        "id": "P2ZQ9SiT_a2_"
      },
      "execution_count": null,
      "outputs": []
    }
  ]
}