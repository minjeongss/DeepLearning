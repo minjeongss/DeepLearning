{
  "nbformat": 4,
  "nbformat_minor": 0,
  "metadata": {
    "colab": {
      "name": "DeepLearning_30m.ipynb",
      "provenance": [],
      "collapsed_sections": [],
      "authorship_tag": "ABX9TyNTTP8G2B0/q7pkCLaS+LKB",
      "include_colab_link": true
    },
    "kernelspec": {
      "name": "python3",
      "display_name": "Python 3"
    },
    "language_info": {
      "name": "python"
    }
  },
  "cells": [
    {
      "cell_type": "markdown",
      "metadata": {
        "id": "view-in-github",
        "colab_type": "text"
      },
      "source": [
        "<a href=\"https://colab.research.google.com/github/minjeongss/DeepLearning/blob/main/DeepLearning_30m.ipynb\" target=\"_parent\"><img src=\"https://colab.research.google.com/assets/colab-badge.svg\" alt=\"Open In Colab\"/></a>"
      ]
    },
    {
      "cell_type": "markdown",
      "source": [
        "# 수강하는 강의\n",
        "[인프런] <br>\n",
        "30분 요약 강좌 시즌3: 초급자를 위한 손에 잡히는 딥러닝!\n"
      ],
      "metadata": {
        "id": "sSCVH1N-kBAA"
      }
    },
    {
      "cell_type": "markdown",
      "source": [
        "# 학습\n",
        "1. 컴퓨터 프로그램이 과제류 T에 속하는 과제들을 수행\n",
        "2. 수행한 성과를 측정한 측도 P\n",
        "3. 어떤 경험 E에 의해 T의 과제에 대한 성과 측도 P가 게선되면 프로그램은 E로부터 학습한다!\n",
        "\n",
        "# KDD 분석 절차\n",
        "#### KDD란?\n",
        "프로파일링 기술을 기반으로 통계적 패턴이나 지식을 찾기 위해 체계적으로 정리한 데이터 마이닝 프로세스\n",
        "#### 단계\n",
        "1. 데이터 존재\n",
        "2. 데이터셋 선택\n",
        "3. 목표 데이터 설정 완료\n",
        "4. 데이터 전처리\n",
        "5. 전처리 데이터 존재\n",
        "6. 데이터 변환\n",
        "7. 데이터 마이닝\n",
        "8. 데이터 마이닝 결과 평가\n",
        "\n",
        "# 딥러닝\n",
        "인간의 신경망을 형상화한 것을 수학 수식으로 배운다!\n",
        "#### 단계\n",
        "Input layer -> Hidden layer -> Output layer"
      ],
      "metadata": {
        "id": "JBTf8rNmkKBj"
      }
    },
    {
      "cell_type": "markdown",
      "source": [
        "## 한글폰트 설치"
      ],
      "metadata": {
        "id": "SOr_nYVsmdkk"
      }
    },
    {
      "cell_type": "code",
      "execution_count": null,
      "metadata": {
        "id": "wZoZeRsfj1_1"
      },
      "outputs": [],
      "source": [
        "!sudo apt install -y fonts-nanum*\n",
        "!sudo fc-cache -fv\n",
        "!rm ~/.cache/matplotlib -rf"
      ]
    },
    {
      "cell_type": "code",
      "source": [
        "#런타임 -> 런타임 다시 시작 후 실행\n",
        "import matplotlib.pyplot as plt\n",
        "plt.rc('font',family='NanumBarunGothic')"
      ],
      "metadata": {
        "id": "Lbtx9FO6mI7M"
      },
      "execution_count": 1,
      "outputs": []
    },
    {
      "cell_type": "markdown",
      "source": [
        "## 데이터 생성"
      ],
      "metadata": {
        "id": "LxwPUKM1ncDE"
      }
    },
    {
      "cell_type": "code",
      "source": [
        "import pandas as pd\n",
        "import numpy as np"
      ],
      "metadata": {
        "id": "hH2YRpzdnXRB"
      },
      "execution_count": 7,
      "outputs": []
    },
    {
      "cell_type": "code",
      "source": [
        "stock=[np.random.randint(10,50)+i*2 for i in range(100)] #주가"
      ],
      "metadata": {
        "id": "jZgwHew-nhg5"
      },
      "execution_count": 8,
      "outputs": []
    },
    {
      "cell_type": "code",
      "source": [
        "import matplotlib.pyplot as plt #시각화 모듈\n",
        "plt.plot(np.arange(1,101), stock)\n",
        "plt.show()"
      ],
      "metadata": {
        "colab": {
          "base_uri": "https://localhost:8080/",
          "height": 265
        },
        "id": "IYM0kqhqnraG",
        "outputId": "7a9e651f-04d2-48ce-f4b6-0237058cb11f"
      },
      "execution_count": 9,
      "outputs": [
        {
          "output_type": "display_data",
          "data": {
            "image/png": "[encoded data removed]",
            "text/plain": [
              "<Figure size 432x288 with 1 Axes>"
            ]
          },
          "metadata": {
            "needs_background": "light"
          }
        }
      ]
    },
    {
      "cell_type": "markdown",
      "source": [
        "딥러닝에선 위의 그래프에서 하나의 일직선을 그릴 수 있는지, 다음 값을 예측할 수 있는지에 대해 알아본다."
      ],
      "metadata": {
        "id": "qPYOT-YKoGSl"
      }
    },
    {
      "cell_type": "markdown",
      "source": [
        "## 딥러닝\n",
        "복잡한 Hidden layer을 제거하고, Input layer과 Output layer만을 두고 본다.\n",
        "<br>\n",
        "### 표현\n",
        "Input layer ---- (y=wx+b) ---- Output layer\n",
        "<br>\n",
        "*이때, y=wx+b는 수식을 말한다"
      ],
      "metadata": {
        "id": "3RODuKVwoRY2"
      }
    },
    {
      "cell_type": "code",
      "source": [
        "independent=pd.DataFrame(np.arange(1,101)) #독립\n",
        "dependent=pd.DataFrame(stock) #종속\n",
        "independent.shape, dependent.shape"
      ],
      "metadata": {
        "colab": {
          "base_uri": "https://localhost:8080/"
        },
        "id": "-WHGePoso2pN",
        "outputId": "bd77fcf6-ca56-4aa6-a6c9-b821488cb292"
      },
      "execution_count": 10,
      "outputs": [
        {
          "output_type": "execute_result",
          "data": {
            "text/plain": [
              "((100, 1), (100, 1))"
            ]
          },
          "metadata": {},
          "execution_count": 10
        }
      ]
    },
    {
      "cell_type": "code",
      "source": [
        "import tensorflow as tf #딥러닝 라이브러리"
      ],
      "metadata": {
        "id": "8W5oCPqdp908"
      },
      "execution_count": 11,
      "outputs": []
    },
    {
      "cell_type": "code",
      "source": [
        "#모델 준비\n",
        "#모델이란? Input, Hidden, Output의 그림을 정해주는 것\n",
        "\n",
        "x=tf.keras.layers.Input(shape=[1]) #독립변수의 col\n",
        "y=tf.keras.layers.Dense(1)(x) #종석변수의 col(뉴런의 개수)\n",
        "model=tf.keras.models.Model(x,y)\n",
        "model.compile(loss='mse') #MSE(Mean Squared error)"
      ],
      "metadata": {
        "id": "9AUhoiJhqDrQ"
      },
      "execution_count": 12,
      "outputs": []
    },
    {
      "cell_type": "code",
      "source": [
        "model.fit(independent,dependent,epochs=10000,verbose=0) #10000번 학습, 학습한 것 보여줌X\n",
        "model.fit(independent,dependent,epochs=10) #10번 학습, 학습한 것 보여줌O\n"
      ],
      "metadata": {
        "colab": {
          "base_uri": "https://localhost:8080/"
        },
        "id": "6tHUm4p5q3sY",
        "outputId": "f2f3f84a-4df3-452e-d30f-f1bc905e7602"
      },
      "execution_count": 25,
      "outputs": [
        {
          "output_type": "stream",
          "name": "stdout",
          "text": [
            "Epoch 1/10\n",
            "4/4 [==============================] - 0s 4ms/step - loss: 128.1645\n",
            "Epoch 2/10\n",
            "4/4 [==============================] - 0s 3ms/step - loss: 128.1094\n",
            "Epoch 3/10\n",
            "4/4 [==============================] - 0s 3ms/step - loss: 128.1701\n",
            "Epoch 4/10\n",
            "4/4 [==============================] - 0s 3ms/step - loss: 128.0191\n",
            "Epoch 5/10\n",
            "4/4 [==============================] - 0s 3ms/step - loss: 128.0755\n",
            "Epoch 6/10\n",
            "4/4 [==============================] - 0s 3ms/step - loss: 128.0825\n",
            "Epoch 7/10\n",
            "4/4 [==============================] - 0s 4ms/step - loss: 128.0612\n",
            "Epoch 8/10\n",
            "4/4 [==============================] - 0s 3ms/step - loss: 128.0335\n",
            "Epoch 9/10\n",
            "4/4 [==============================] - 0s 4ms/step - loss: 127.9943\n",
            "Epoch 10/10\n",
            "4/4 [==============================] - 0s 4ms/step - loss: 127.9847\n"
          ]
        },
        {
          "output_type": "execute_result",
          "data": {
            "text/plain": [
              "<keras.callbacks.History at 0x7fbd537cad90>"
            ]
          },
          "metadata": {},
          "execution_count": 25
        }
      ]
    },
    {
      "cell_type": "markdown",
      "source": [
        "학습을 실행시켰을 때, 나오는 `loss`는 손실을 말한다.\n",
        "<br>\n",
        "계속 학습을 반복하면 `loss`의 값이 감소한다!"
      ],
      "metadata": {
        "id": "5Et2pqucrg2B"
      }
    },
    {
      "cell_type": "code",
      "source": [
        "model.predict([50])\n",
        "model.predict([40])\n",
        "#50과 40은 stock을 표현하는 그래프에서 40과 50에 해당하는 값을 출력하는 것이다"
      ],
      "metadata": {
        "colab": {
          "base_uri": "https://localhost:8080/"
        },
        "id": "1WwPuIfyrtv4",
        "outputId": "38ae65e3-7a5d-400c-e4ee-1b8a7c5bf291"
      },
      "execution_count": 26,
      "outputs": [
        {
          "output_type": "execute_result",
          "data": {
            "text/plain": [
              "array([[106.00892]], dtype=float32)"
            ]
          },
          "metadata": {},
          "execution_count": 26
        }
      ]
    },
    {
      "cell_type": "code",
      "source": [
        "model.get_weights()"
      ],
      "metadata": {
        "colab": {
          "base_uri": "https://localhost:8080/"
        },
        "id": "xSei1l9osLE1",
        "outputId": "c4e271bc-69bc-4b49-ea27-1763a51434ab"
      },
      "execution_count": 27,
      "outputs": [
        {
          "output_type": "execute_result",
          "data": {
            "text/plain": [
              "[array([[2.0370643]], dtype=float32), array([24.526346], dtype=float32)]"
            ]
          },
          "metadata": {},
          "execution_count": 27
        }
      ]
    },
    {
      "cell_type": "code",
      "source": [
        "2.037*40+24.526 #wx+b"
      ],
      "metadata": {
        "colab": {
          "base_uri": "https://localhost:8080/"
        },
        "id": "6AApvmYfu39w",
        "outputId": "64bb2d4a-d93a-4e51-9fc5-5d891e58d11c"
      },
      "execution_count": 29,
      "outputs": [
        {
          "output_type": "execute_result",
          "data": {
            "text/plain": [
              "106.00599999999999"
            ]
          },
          "metadata": {},
          "execution_count": 29
        }
      ]
    },
    {
      "cell_type": "code",
      "source": [
        "model.predict(independent) #전체 독립 예측"
      ],
      "metadata": {
        "id": "1texn6u9sIIe"
      },
      "execution_count": null,
      "outputs": []
    },
    {
      "cell_type": "markdown",
      "source": [
        "첫 번째의 값: w <br>\n",
        "두 번째의 값: b\n",
        "<br>\n",
        "y=wx+b에서 x는 50,40 등을 넣으면 최종적으로 y가 예측이 된다! \n",
        "<br><br>\n",
        "즉, 딥러닝에선 w,b를 자동으로 찾아주게 된다.\n",
        "x=독립변수(일자) <br>\n",
        "y=종속변수(stock)\n",
        "<br><br>\n",
        "정확하지 않기에, 계속해서 훈련을 시킨다.<br>\n",
        "`epochs=100`에서 `epochs=10000`으로 늘린다면 훈련의 수를 더 늘리게 되는 것이다.\n",
        "\n"
      ],
      "metadata": {
        "id": "OJfbNfsnsRZF"
      }
    },
    {
      "cell_type": "code",
      "source": [
        "plt.plot(np.arange(1,101),stock)\n",
        "plt.plot(np.arange(1,101),2.037*np.arange(1,101)+24.526)\n",
        "\n",
        "plt.show()"
      ],
      "metadata": {
        "colab": {
          "base_uri": "https://localhost:8080/",
          "height": 265
        },
        "id": "oMIX6zZ2to5O",
        "outputId": "a3242a7c-1ee8-4b5e-e9e6-0e796af7118b"
      },
      "execution_count": 30,
      "outputs": [
        {
          "output_type": "display_data",
          "data": {
            "image/png": "[encoded data removed]",
            "text/plain": [
              "<Figure size 432x288 with 1 Axes>"
            ]
          },
          "metadata": {
            "needs_background": "light"
          }
        }
      ]
    },
    {
      "cell_type": "code",
      "source": [
        "errorValue=dependent-model.predict(independent) #오차값\n",
        "errorValue"
      ],
      "metadata": {
        "colab": {
          "base_uri": "https://localhost:8080/",
          "height": 423
        },
        "id": "sMLsl0pJvxGm",
        "outputId": "746e293c-fc1e-44b6-c580-afb26ba75cfc"
      },
      "execution_count": 31,
      "outputs": [
        {
          "output_type": "execute_result",
          "data": {
            "text/html": [
              "\n",
              "  <div id=\"df-27b91793-59e9-406e-bbc7-60f5a82c0326\">\n",
              "    <div class=\"colab-df-container\">\n",
              "      <div>\n",
              "<style scoped>\n",
              "    .dataframe tbody tr th:only-of-type {\n",
              "        vertical-align: middle;\n",
              "    }\n",
              "\n",
              "    .dataframe tbody tr th {\n",
              "        vertical-align: top;\n",
              "    }\n",
              "\n",
              "    .dataframe thead th {\n",
              "        text-align: right;\n",
              "    }\n",
              "</style>\n",
              "<table border=\"1\" class=\"dataframe\">\n",
              "  <thead>\n",
              "    <tr style=\"text-align: right;\">\n",
              "      <th></th>\n",
              "      <th>0</th>\n",
              "    </tr>\n",
              "  </thead>\n",
              "  <tbody>\n",
              "    <tr>\n",
              "      <th>0</th>\n",
              "      <td>13.436590</td>\n",
              "    </tr>\n",
              "    <tr>\n",
              "      <th>1</th>\n",
              "      <td>-16.600475</td>\n",
              "    </tr>\n",
              "    <tr>\n",
              "      <th>2</th>\n",
              "      <td>11.362461</td>\n",
              "    </tr>\n",
              "    <tr>\n",
              "      <th>3</th>\n",
              "      <td>-1.674603</td>\n",
              "    </tr>\n",
              "    <tr>\n",
              "      <th>4</th>\n",
              "      <td>5.288330</td>\n",
              "    </tr>\n",
              "    <tr>\n",
              "      <th>...</th>\n",
              "      <td>...</td>\n",
              "    </tr>\n",
              "    <tr>\n",
              "      <th>95</th>\n",
              "      <td>2.915482</td>\n",
              "    </tr>\n",
              "    <tr>\n",
              "      <th>96</th>\n",
              "      <td>13.878403</td>\n",
              "    </tr>\n",
              "    <tr>\n",
              "      <th>97</th>\n",
              "      <td>-2.158661</td>\n",
              "    </tr>\n",
              "    <tr>\n",
              "      <th>98</th>\n",
              "      <td>-16.195724</td>\n",
              "    </tr>\n",
              "    <tr>\n",
              "      <th>99</th>\n",
              "      <td>9.767212</td>\n",
              "    </tr>\n",
              "  </tbody>\n",
              "</table>\n",
              "<p>100 rows × 1 columns</p>\n",
              "</div>\n",
              "      <button class=\"colab-df-convert\" onclick=\"convertToInteractive('df-27b91793-59e9-406e-bbc7-60f5a82c0326')\"\n",
              "              title=\"Convert this dataframe to an interactive table.\"\n",
              "              style=\"display:none;\">\n",
              "        \n",
              "  <svg xmlns=\"http://www.w3.org/2000/svg\" height=\"24px\"viewBox=\"0 0 24 24\"\n",
              "       width=\"24px\">\n",
              "    <path d=\"M0 0h24v24H0V0z\" fill=\"none\"/>\n",
              "    <path d=\"M18.56 5.44l.94 2.06.94-2.06 2.06-.94-2.06-.94-.94-2.06-.94 2.06-2.06.94zm-11 1L8.5 8.5l.94-2.06 2.06-.94-2.06-.94L8.5 2.5l-.94 2.06-2.06.94zm10 10l.94 2.06.94-2.06 2.06-.94-2.06-.94-.94-2.06-.94 2.06-2.06.94z\"/><path d=\"M17.41 7.96l-1.37-1.37c-.4-.4-.92-.59-1.43-.59-.52 0-1.04.2-1.43.59L10.3 9.45l-7.72 7.72c-.78.78-.78 2.05 0 2.83L4 21.41c.39.39.9.59 1.41.59.51 0 1.02-.2 1.41-.59l7.78-7.78 2.81-2.81c.8-.78.8-2.07 0-2.86zM5.41 20L4 18.59l7.72-7.72 1.47 1.35L5.41 20z\"/>\n",
              "  </svg>\n",
              "      </button>\n",
              "      \n",
              "  <style>\n",
              "    .colab-df-container {\n",
              "      display:flex;\n",
              "      flex-wrap:wrap;\n",
              "      gap: 12px;\n",
              "    }\n",
              "\n",
              "    .colab-df-convert {\n",
              "      background-color: #E8F0FE;\n",
              "      border: none;\n",
              "      border-radius: 50%;\n",
              "      cursor: pointer;\n",
              "      display: none;\n",
              "      fill: #1967D2;\n",
              "      height: 32px;\n",
              "      padding: 0 0 0 0;\n",
              "      width: 32px;\n",
              "    }\n",
              "\n",
              "    .colab-df-convert:hover {\n",
              "      background-color: #E2EBFA;\n",
              "      box-shadow: 0px 1px 2px rgba(60, 64, 67, 0.3), 0px 1px 3px 1px rgba(60, 64, 67, 0.15);\n",
              "      fill: #174EA6;\n",
              "    }\n",
              "\n",
              "    [theme=dark] .colab-df-convert {\n",
              "      background-color: #3B4455;\n",
              "      fill: #D2E3FC;\n",
              "    }\n",
              "\n",
              "    [theme=dark] .colab-df-convert:hover {\n",
              "      background-color: #434B5C;\n",
              "      box-shadow: 0px 1px 3px 1px rgba(0, 0, 0, 0.15);\n",
              "      filter: drop-shadow(0px 1px 2px rgba(0, 0, 0, 0.3));\n",
              "      fill: #FFFFFF;\n",
              "    }\n",
              "  </style>\n",
              "\n",
              "      <script>\n",
              "        const buttonEl =\n",
              "          document.querySelector('#df-27b91793-59e9-406e-bbc7-60f5a82c0326 button.colab-df-convert');\n",
              "        buttonEl.style.display =\n",
              "          google.colab.kernel.accessAllowed ? 'block' : 'none';\n",
              "\n",
              "        async function convertToInteractive(key) {\n",
              "          const element = document.querySelector('#df-27b91793-59e9-406e-bbc7-60f5a82c0326');\n",
              "          const dataTable =\n",
              "            await google.colab.kernel.invokeFunction('convertToInteractive',\n",
              "                                                     [key], {});\n",
              "          if (!dataTable) return;\n",
              "\n",
              "          const docLinkHtml = 'Like what you see? Visit the ' +\n",
              "            '<a target=\"_blank\" href=https://colab.research.google.com/notebooks/data_table.ipynb>data table notebook</a>'\n",
              "            + ' to learn more about interactive tables.';\n",
              "          element.innerHTML = '';\n",
              "          dataTable['output_type'] = 'display_data';\n",
              "          await google.colab.output.renderOutput(dataTable, element);\n",
              "          const docLink = document.createElement('div');\n",
              "          docLink.innerHTML = docLinkHtml;\n",
              "          element.appendChild(docLink);\n",
              "        }\n",
              "      </script>\n",
              "    </div>\n",
              "  </div>\n",
              "  "
            ],
            "text/plain": [
              "            0\n",
              "0   13.436590\n",
              "1  -16.600475\n",
              "2   11.362461\n",
              "3   -1.674603\n",
              "4    5.288330\n",
              "..        ...\n",
              "95   2.915482\n",
              "96  13.878403\n",
              "97  -2.158661\n",
              "98 -16.195724\n",
              "99   9.767212\n",
              "\n",
              "[100 rows x 1 columns]"
            ]
          },
          "metadata": {},
          "execution_count": 31
        }
      ]
    },
    {
      "cell_type": "code",
      "source": [
        "errorValueDouble=errorValue**2\n",
        "errorValueDouble"
      ],
      "metadata": {
        "colab": {
          "base_uri": "https://localhost:8080/",
          "height": 423
        },
        "id": "B_fpfXzjv6V1",
        "outputId": "e283446f-8310-475b-8abf-19a5acf818fd"
      },
      "execution_count": 33,
      "outputs": [
        {
          "output_type": "execute_result",
          "data": {
            "text/html": [
              "\n",
              "  <div id=\"df-86ecbae9-a67c-46f6-846c-1814a7eac669\">\n",
              "    <div class=\"colab-df-container\">\n",
              "      <div>\n",
              "<style scoped>\n",
              "    .dataframe tbody tr th:only-of-type {\n",
              "        vertical-align: middle;\n",
              "    }\n",
              "\n",
              "    .dataframe tbody tr th {\n",
              "        vertical-align: top;\n",
              "    }\n",
              "\n",
              "    .dataframe thead th {\n",
              "        text-align: right;\n",
              "    }\n",
              "</style>\n",
              "<table border=\"1\" class=\"dataframe\">\n",
              "  <thead>\n",
              "    <tr style=\"text-align: right;\">\n",
              "      <th></th>\n",
              "      <th>0</th>\n",
              "    </tr>\n",
              "  </thead>\n",
              "  <tbody>\n",
              "    <tr>\n",
              "      <th>0</th>\n",
              "      <td>180.541956</td>\n",
              "    </tr>\n",
              "    <tr>\n",
              "      <th>1</th>\n",
              "      <td>275.575781</td>\n",
              "    </tr>\n",
              "    <tr>\n",
              "      <th>2</th>\n",
              "      <td>129.105522</td>\n",
              "    </tr>\n",
              "    <tr>\n",
              "      <th>3</th>\n",
              "      <td>2.804294</td>\n",
              "    </tr>\n",
              "    <tr>\n",
              "      <th>4</th>\n",
              "      <td>27.966435</td>\n",
              "    </tr>\n",
              "    <tr>\n",
              "      <th>...</th>\n",
              "      <td>...</td>\n",
              "    </tr>\n",
              "    <tr>\n",
              "      <th>95</th>\n",
              "      <td>8.500033</td>\n",
              "    </tr>\n",
              "    <tr>\n",
              "      <th>96</th>\n",
              "      <td>192.610062</td>\n",
              "    </tr>\n",
              "    <tr>\n",
              "      <th>97</th>\n",
              "      <td>4.659817</td>\n",
              "    </tr>\n",
              "    <tr>\n",
              "      <th>98</th>\n",
              "      <td>262.301492</td>\n",
              "    </tr>\n",
              "    <tr>\n",
              "      <th>99</th>\n",
              "      <td>95.398429</td>\n",
              "    </tr>\n",
              "  </tbody>\n",
              "</table>\n",
              "<p>100 rows × 1 columns</p>\n",
              "</div>\n",
              "      <button class=\"colab-df-convert\" onclick=\"convertToInteractive('df-86ecbae9-a67c-46f6-846c-1814a7eac669')\"\n",
              "              title=\"Convert this dataframe to an interactive table.\"\n",
              "              style=\"display:none;\">\n",
              "        \n",
              "  <svg xmlns=\"http://www.w3.org/2000/svg\" height=\"24px\"viewBox=\"0 0 24 24\"\n",
              "       width=\"24px\">\n",
              "    <path d=\"M0 0h24v24H0V0z\" fill=\"none\"/>\n",
              "    <path d=\"M18.56 5.44l.94 2.06.94-2.06 2.06-.94-2.06-.94-.94-2.06-.94 2.06-2.06.94zm-11 1L8.5 8.5l.94-2.06 2.06-.94-2.06-.94L8.5 2.5l-.94 2.06-2.06.94zm10 10l.94 2.06.94-2.06 2.06-.94-2.06-.94-.94-2.06-.94 2.06-2.06.94z\"/><path d=\"M17.41 7.96l-1.37-1.37c-.4-.4-.92-.59-1.43-.59-.52 0-1.04.2-1.43.59L10.3 9.45l-7.72 7.72c-.78.78-.78 2.05 0 2.83L4 21.41c.39.39.9.59 1.41.59.51 0 1.02-.2 1.41-.59l7.78-7.78 2.81-2.81c.8-.78.8-2.07 0-2.86zM5.41 20L4 18.59l7.72-7.72 1.47 1.35L5.41 20z\"/>\n",
              "  </svg>\n",
              "      </button>\n",
              "      \n",
              "  <style>\n",
              "    .colab-df-container {\n",
              "      display:flex;\n",
              "      flex-wrap:wrap;\n",
              "      gap: 12px;\n",
              "    }\n",
              "\n",
              "    .colab-df-convert {\n",
              "      background-color: #E8F0FE;\n",
              "      border: none;\n",
              "      border-radius: 50%;\n",
              "      cursor: pointer;\n",
              "      display: none;\n",
              "      fill: #1967D2;\n",
              "      height: 32px;\n",
              "      padding: 0 0 0 0;\n",
              "      width: 32px;\n",
              "    }\n",
              "\n",
              "    .colab-df-convert:hover {\n",
              "      background-color: #E2EBFA;\n",
              "      box-shadow: 0px 1px 2px rgba(60, 64, 67, 0.3), 0px 1px 3px 1px rgba(60, 64, 67, 0.15);\n",
              "      fill: #174EA6;\n",
              "    }\n",
              "\n",
              "    [theme=dark] .colab-df-convert {\n",
              "      background-color: #3B4455;\n",
              "      fill: #D2E3FC;\n",
              "    }\n",
              "\n",
              "    [theme=dark] .colab-df-convert:hover {\n",
              "      background-color: #434B5C;\n",
              "      box-shadow: 0px 1px 3px 1px rgba(0, 0, 0, 0.15);\n",
              "      filter: drop-shadow(0px 1px 2px rgba(0, 0, 0, 0.3));\n",
              "      fill: #FFFFFF;\n",
              "    }\n",
              "  </style>\n",
              "\n",
              "      <script>\n",
              "        const buttonEl =\n",
              "          document.querySelector('#df-86ecbae9-a67c-46f6-846c-1814a7eac669 button.colab-df-convert');\n",
              "        buttonEl.style.display =\n",
              "          google.colab.kernel.accessAllowed ? 'block' : 'none';\n",
              "\n",
              "        async function convertToInteractive(key) {\n",
              "          const element = document.querySelector('#df-86ecbae9-a67c-46f6-846c-1814a7eac669');\n",
              "          const dataTable =\n",
              "            await google.colab.kernel.invokeFunction('convertToInteractive',\n",
              "                                                     [key], {});\n",
              "          if (!dataTable) return;\n",
              "\n",
              "          const docLinkHtml = 'Like what you see? Visit the ' +\n",
              "            '<a target=\"_blank\" href=https://colab.research.google.com/notebooks/data_table.ipynb>data table notebook</a>'\n",
              "            + ' to learn more about interactive tables.';\n",
              "          element.innerHTML = '';\n",
              "          dataTable['output_type'] = 'display_data';\n",
              "          await google.colab.output.renderOutput(dataTable, element);\n",
              "          const docLink = document.createElement('div');\n",
              "          docLink.innerHTML = docLinkHtml;\n",
              "          element.appendChild(docLink);\n",
              "        }\n",
              "      </script>\n",
              "    </div>\n",
              "  </div>\n",
              "  "
            ],
            "text/plain": [
              "             0\n",
              "0   180.541956\n",
              "1   275.575781\n",
              "2   129.105522\n",
              "3     2.804294\n",
              "4    27.966435\n",
              "..         ...\n",
              "95    8.500033\n",
              "96  192.610062\n",
              "97    4.659817\n",
              "98  262.301492\n",
              "99   95.398429\n",
              "\n",
              "[100 rows x 1 columns]"
            ]
          },
          "metadata": {},
          "execution_count": 33
        }
      ]
    },
    {
      "cell_type": "code",
      "source": [
        "(errorValueDouble.sum())/100 #MSE"
      ],
      "metadata": {
        "colab": {
          "base_uri": "https://localhost:8080/"
        },
        "id": "KkrMnyA4wJiV",
        "outputId": "5c930a21-f65b-47ba-d883-f92e4ea9d2e4"
      },
      "execution_count": 34,
      "outputs": [
        {
          "output_type": "execute_result",
          "data": {
            "text/plain": [
              "0    127.894306\n",
              "dtype: float64"
            ]
          },
          "metadata": {},
          "execution_count": 34
        }
      ]
    },
    {
      "cell_type": "markdown",
      "source": [
        "## 최소 제곱법\n",
        "기존의 통계학적 지식으로 위에서 예측한 노란색 선을 그리는 방법"
      ],
      "metadata": {
        "id": "tute0lVkwZ0V"
      }
    },
    {
      "cell_type": "markdown",
      "source": [
        "### a값 구하기"
      ],
      "metadata": {
        "id": "RtQSKEb2ynJ0"
      }
    },
    {
      "cell_type": "code",
      "source": [
        "mulTwo=independent*dependent\n",
        "int(100*mulTwo.sum())"
      ],
      "metadata": {
        "colab": {
          "base_uri": "https://localhost:8080/"
        },
        "id": "ju4RGsQ5wbgf",
        "outputId": "3c8dd4a0-9785-47fa-f3d6-5762925ebb1e"
      },
      "execution_count": 35,
      "outputs": [
        {
          "output_type": "execute_result",
          "data": {
            "text/plain": [
              "81445300"
            ]
          },
          "metadata": {},
          "execution_count": 35
        }
      ]
    },
    {
      "cell_type": "code",
      "source": [
        "int(independent.sum()*dependent.sum())"
      ],
      "metadata": {
        "colab": {
          "base_uri": "https://localhost:8080/"
        },
        "id": "tJ4XeTg8xRjU",
        "outputId": "82941e5a-8259-43cf-c882-e89d7fc18c61"
      },
      "execution_count": 37,
      "outputs": [
        {
          "output_type": "execute_result",
          "data": {
            "text/plain": [
              "64761200"
            ]
          },
          "metadata": {},
          "execution_count": 37
        }
      ]
    },
    {
      "cell_type": "code",
      "source": [
        "int(100*(independent**2).sum())"
      ],
      "metadata": {
        "colab": {
          "base_uri": "https://localhost:8080/"
        },
        "id": "qbL4a9j4xgUI",
        "outputId": "1be2fec5-7557-44b3-dbdc-a26332940f0a"
      },
      "execution_count": 38,
      "outputs": [
        {
          "output_type": "execute_result",
          "data": {
            "text/plain": [
              "33835000"
            ]
          },
          "metadata": {},
          "execution_count": 38
        }
      ]
    },
    {
      "cell_type": "code",
      "source": [
        "int(independent.sum()*independent.sum())"
      ],
      "metadata": {
        "colab": {
          "base_uri": "https://localhost:8080/"
        },
        "id": "r9lAs2enxlbE",
        "outputId": "7d11c3f2-e7c4-429c-b177-6e9349402b82"
      },
      "execution_count": 39,
      "outputs": [
        {
          "output_type": "execute_result",
          "data": {
            "text/plain": [
              "25502500"
            ]
          },
          "metadata": {},
          "execution_count": 39
        }
      ]
    },
    {
      "cell_type": "code",
      "source": [
        "numeratorW=int(100*mulTwo.sum())-int(independent.sum()*dependent.sum())#분자\n",
        "denominatorW=int(100*(independent**2).sum())-int(independent.sum()*independent.sum()) #분모"
      ],
      "metadata": {
        "id": "3N8XY3kpxq7L"
      },
      "execution_count": 43,
      "outputs": []
    },
    {
      "cell_type": "code",
      "source": [
        "numeratorW/denominatorW #w값"
      ],
      "metadata": {
        "colab": {
          "base_uri": "https://localhost:8080/"
        },
        "id": "VpDk5vHvyVyl",
        "outputId": "60a72bab-bf01-43d8-9762-3a8b60452ed8"
      },
      "execution_count": 44,
      "outputs": [
        {
          "output_type": "execute_result",
          "data": {
            "text/plain": [
              "2.002292229222922"
            ]
          },
          "metadata": {},
          "execution_count": 44
        }
      ]
    },
    {
      "cell_type": "code",
      "source": [
        "model.get_weights()"
      ],
      "metadata": {
        "colab": {
          "base_uri": "https://localhost:8080/"
        },
        "id": "hG5IwtkRyZ9x",
        "outputId": "54b0befc-62b1-42e2-998c-53049c01adf6"
      },
      "execution_count": 45,
      "outputs": [
        {
          "output_type": "execute_result",
          "data": {
            "text/plain": [
              "[array([[2.0370643]], dtype=float32), array([24.526346], dtype=float32)]"
            ]
          },
          "metadata": {},
          "execution_count": 45
        }
      ]
    },
    {
      "cell_type": "markdown",
      "source": [
        "### b값 구하기"
      ],
      "metadata": {
        "id": "n8-XI-Ozyk61"
      }
    },
    {
      "cell_type": "code",
      "source": [
        "numeratorB=((independent**2).sum()*dependent.sum())-(independent.sum()*(independent*dependent).sum())#분자\n",
        "denominatorB=int(100*(independent**2).sum())-int(independent.sum()*independent.sum()) #분모"
      ],
      "metadata": {
        "id": "wb8hzuO7yiOC"
      },
      "execution_count": 46,
      "outputs": []
    },
    {
      "cell_type": "code",
      "source": [
        "numeratorB/denominatorB"
      ],
      "metadata": {
        "colab": {
          "base_uri": "https://localhost:8080/"
        },
        "id": "kkXKk9f1zbe5",
        "outputId": "abd353b2-7f4b-4d63-91d2-98b1cbb343bf"
      },
      "execution_count": 47,
      "outputs": [
        {
          "output_type": "execute_result",
          "data": {
            "text/plain": [
              "0    27.124242\n",
              "dtype: float64"
            ]
          },
          "metadata": {},
          "execution_count": 47
        }
      ]
    },
    {
      "cell_type": "markdown",
      "source": [
        "### 통계학적이 아닌 딥러닝으로 계산하는 이유\n",
        "더 복잡한 데이터와 패턴을 계산할 수 있기 때문이다."
      ],
      "metadata": {
        "id": "XWRhCFoFzjIA"
      }
    },
    {
      "cell_type": "markdown",
      "source": [
        "## 단순 데이터의 히든레이어\n",
        "### 구성요소\n",
        "Input layer: 2개(x1,x2)<br>\n",
        "Hidden layer: 2개<br>\n",
        "Output layer: 1개\n",
        "\n",
        "### 관계\n",
        "1. y = w1*x1 +b\n",
        "1. y = w2*x1 +b\n",
        "1. y = w3*x2 +b\n",
        "1. y = w4*x2 +b\n",
        "1. y = w5*x3 +b\n",
        "1. y = w6*x4 +b\n",
        "\n",
        "+ x3 = w1 * x1 + w3 * y2 \n",
        "+ x4 = w2 * x1 + w4 * y2 \n"
      ],
      "metadata": {
        "id": "wOoFXPxUzsa4"
      }
    },
    {
      "cell_type": "code",
      "source": [
        ""
      ],
      "metadata": {
        "id": "j_lpC7k4zv2U"
      },
      "execution_count": null,
      "outputs": []
    }
  ]
}