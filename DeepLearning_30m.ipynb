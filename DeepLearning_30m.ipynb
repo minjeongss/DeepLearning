{
  "nbformat": 4,
  "nbformat_minor": 0,
  "metadata": {
    "colab": {
      "name": "DeepLearning_30m.ipynb",
      "provenance": [],
      "collapsed_sections": [],
      "authorship_tag": "ABX9TyMRIoPZ+mk0FM+vBBSfWL+B"
    },
    "kernelspec": {
      "name": "python3",
      "display_name": "Python 3"
    },
    "language_info": {
      "name": "python"
    }
  },
  "cells": [
    {
      "cell_type": "markdown",
      "source": [
        "# 수강하는 강의\n",
        "[인프런] <br>\n",
        "30분 요약 강좌 시즌3: 초급자를 위한 손에 잡히는 딥러닝!\n"
      ],
      "metadata": {
        "id": "sSCVH1N-kBAA"
      }
    },
    {
      "cell_type": "markdown",
      "source": [
        "# 기초 개념 정리\n",
        "## 학습\n",
        "1. 컴퓨터 프로그램이 과제류 T에 속하는 과제들을 수행\n",
        "2. 수행한 성과를 측정한 측도 P\n",
        "3. 어떤 경험 E에 의해 T의 과제에 대한 성과 측도 P가 게선되면 프로그램은 E로부터 학습한다!\n",
        "\n",
        "## KDD 분석 절차\n",
        "#### KDD란?\n",
        "프로파일링 기술을 기반으로 통계적 패턴이나 지식을 찾기 위해 체계적으로 정리한 데이터 마이닝 프로세스\n",
        "#### 단계\n",
        "1. 데이터 존재\n",
        "2. 데이터셋 선택\n",
        "3. 목표 데이터 설정 완료\n",
        "4. 데이터 전처리\n",
        "5. 전처리 데이터 존재\n",
        "6. 데이터 변환\n",
        "7. 데이터 마이닝\n",
        "8. 데이터 마이닝 결과 평가\n",
        "\n",
        "## 딥러닝\n",
        "인간의 신경망을 형상화한 것을 수학 수식으로 배운다!\n",
        "#### 단계\n",
        "Input layer -> Hidden layer -> Output layer"
      ],
      "metadata": {
        "id": "JBTf8rNmkKBj"
      }
    },
    {
      "cell_type": "markdown",
      "source": [
        "# 코드로 알아보는 머신러닝"
      ],
      "metadata": {
        "id": "U6WtFfUpSqpy"
      }
    },
    {
      "cell_type": "markdown",
      "source": [
        "## 한글폰트 설치"
      ],
      "metadata": {
        "id": "SOr_nYVsmdkk"
      }
    },
    {
      "cell_type": "code",
      "execution_count": null,
      "metadata": {
        "id": "wZoZeRsfj1_1"
      },
      "outputs": [],
      "source": [
        "!sudo apt install -y fonts-nanum*\n",
        "!sudo fc-cache -fv\n",
        "!rm ~/.cache/matplotlib -rf"
      ]
    },
    {
      "cell_type": "code",
      "source": [
        "#런타임 -> 런타임 다시 시작 후 실행\n",
        "import matplotlib.pyplot as plt\n",
        "plt.rc('font',family='NanumBarunGothic')"
      ],
      "metadata": {
        "id": "Lbtx9FO6mI7M"
      },
      "execution_count": 2,
      "outputs": []
    },
    {
      "cell_type": "markdown",
      "source": [
        "## 데이터 생성"
      ],
      "metadata": {
        "id": "LxwPUKM1ncDE"
      }
    },
    {
      "cell_type": "code",
      "source": [
        "import pandas as pd\n",
        "import numpy as np"
      ],
      "metadata": {
        "id": "hH2YRpzdnXRB"
      },
      "execution_count": 3,
      "outputs": []
    },
    {
      "cell_type": "code",
      "source": [
        "stock=[np.random.randint(10,50)+i*2 for i in range(100)] #주가"
      ],
      "metadata": {
        "id": "jZgwHew-nhg5"
      },
      "execution_count": 4,
      "outputs": []
    },
    {
      "cell_type": "code",
      "source": [
        "import matplotlib.pyplot as plt #시각화 모듈\n",
        "plt.plot(np.arange(1,101), stock)\n",
        "plt.show()"
      ],
      "metadata": {
        "colab": {
          "base_uri": "https://localhost:8080/",
          "height": 283
        },
        "id": "IYM0kqhqnraG",
        "outputId": "70e1f4bb-4a7e-4edc-a62a-f62e41a64469"
      },
      "execution_count": 5,
      "outputs": [
        {
          "output_type": "stream",
          "name": "stderr",
          "text": [
            "findfont: Font family ['NanumBarunGothic'] not found. Falling back to DejaVu Sans.\n"
          ]
        },
        {
          "output_type": "display_data",
          "data": {
            "text/plain": [
              "<Figure size 432x288 with 1 Axes>"
            ],
            "image/png": "[encoded data removed]"
          },
          "metadata": {
            "needs_background": "light"
          }
        }
      ]
    },
    {
      "cell_type": "markdown",
      "source": [
        "딥러닝에선 위의 그래프에서 하나의 일직선을 그릴 수 있는지, 다음 값을 예측할 수 있는지에 대해 알아본다."
      ],
      "metadata": {
        "id": "qPYOT-YKoGSl"
      }
    },
    {
      "cell_type": "markdown",
      "source": [
        "## 딥러닝\n",
        "복잡한 Hidden layer을 제거하고, Input layer과 Output layer만을 두고 본다.\n",
        "<br>\n",
        "### 표현\n",
        "Input layer ---- (y=wx+b) ---- Output layer\n",
        "<br>\n",
        "*이때, y=wx+b는 수식을 말한다"
      ],
      "metadata": {
        "id": "3RODuKVwoRY2"
      }
    },
    {
      "cell_type": "code",
      "source": [
        "independent=pd.DataFrame(np.arange(1,101)) #독립\n",
        "dependent=pd.DataFrame(stock) #종속\n",
        "independent.shape, dependent.shape"
      ],
      "metadata": {
        "colab": {
          "base_uri": "https://localhost:8080/"
        },
        "id": "-WHGePoso2pN",
        "outputId": "44bc110b-fd5e-46ff-d49e-01d2ea48321e"
      },
      "execution_count": 6,
      "outputs": [
        {
          "output_type": "execute_result",
          "data": {
            "text/plain": [
              "((100, 1), (100, 1))"
            ]
          },
          "metadata": {},
          "execution_count": 6
        }
      ]
    },
    {
      "cell_type": "code",
      "source": [
        "import tensorflow as tf #딥러닝 라이브러리"
      ],
      "metadata": {
        "id": "8W5oCPqdp908"
      },
      "execution_count": 7,
      "outputs": []
    },
    {
      "cell_type": "code",
      "source": [
        "#모델 준비\n",
        "#모델이란? Input, Hidden, Output의 그림을 정해주는 것\n",
        "\n",
        "x=tf.keras.layers.Input(shape=[1]) #독립변수의 col\n",
        "y=tf.keras.layers.Dense(1)(x) #종석변수의 col(뉴런의 개수)\n",
        "model=tf.keras.models.Model(x,y)\n",
        "model.compile(loss='mse') #MSE(Mean Squared error)"
      ],
      "metadata": {
        "id": "9AUhoiJhqDrQ"
      },
      "execution_count": 8,
      "outputs": []
    },
    {
      "cell_type": "code",
      "source": [
        "model.fit(independent,dependent,epochs=10000,verbose=0) #10000번 학습, 학습한 것 보여줌X\n",
        "model.fit(independent,dependent,epochs=10) #10번 학습, 학습한 것 보여줌O\n"
      ],
      "metadata": {
        "colab": {
          "base_uri": "https://localhost:8080/"
        },
        "id": "6tHUm4p5q3sY",
        "outputId": "d1a947eb-1503-4c19-b3d0-738a295b5cdf"
      },
      "execution_count": 9,
      "outputs": [
        {
          "output_type": "stream",
          "name": "stdout",
          "text": [
            "Epoch 1/10\n",
            "4/4 [==============================] - 0s 3ms/step - loss: 125.6782\n",
            "Epoch 2/10\n",
            "4/4 [==============================] - 0s 2ms/step - loss: 125.7233\n",
            "Epoch 3/10\n",
            "4/4 [==============================] - 0s 4ms/step - loss: 125.7439\n",
            "Epoch 4/10\n",
            "4/4 [==============================] - 0s 3ms/step - loss: 125.6665\n",
            "Epoch 5/10\n",
            "4/4 [==============================] - 0s 2ms/step - loss: 125.6482\n",
            "Epoch 6/10\n",
            "4/4 [==============================] - 0s 2ms/step - loss: 125.6116\n",
            "Epoch 7/10\n",
            "4/4 [==============================] - 0s 2ms/step - loss: 125.6458\n",
            "Epoch 8/10\n",
            "4/4 [==============================] - 0s 3ms/step - loss: 125.7608\n",
            "Epoch 9/10\n",
            "4/4 [==============================] - 0s 2ms/step - loss: 125.6347\n",
            "Epoch 10/10\n",
            "4/4 [==============================] - 0s 2ms/step - loss: 125.6556\n"
          ]
        },
        {
          "output_type": "execute_result",
          "data": {
            "text/plain": [
              "<keras.callbacks.History at 0x7fc4f9d91850>"
            ]
          },
          "metadata": {},
          "execution_count": 9
        }
      ]
    },
    {
      "cell_type": "markdown",
      "source": [
        "학습을 실행시켰을 때, 나오는 `loss`는 손실을 말한다.\n",
        "<br>\n",
        "계속 학습을 반복하면 `loss`의 값이 감소한다!"
      ],
      "metadata": {
        "id": "5Et2pqucrg2B"
      }
    },
    {
      "cell_type": "code",
      "source": [
        "model.predict([50])\n",
        "model.predict([40])\n",
        "#50과 40은 stock을 표현하는 그래프에서 40과 50에 해당하는 값을 출력하는 것이다"
      ],
      "metadata": {
        "colab": {
          "base_uri": "https://localhost:8080/"
        },
        "id": "1WwPuIfyrtv4",
        "outputId": "0912e6c0-2bef-468a-ce9b-1bddec03e12b"
      },
      "execution_count": 10,
      "outputs": [
        {
          "output_type": "execute_result",
          "data": {
            "text/plain": [
              "array([[108.56535]], dtype=float32)"
            ]
          },
          "metadata": {},
          "execution_count": 10
        }
      ]
    },
    {
      "cell_type": "code",
      "source": [
        "model.get_weights()"
      ],
      "metadata": {
        "colab": {
          "base_uri": "https://localhost:8080/"
        },
        "id": "xSei1l9osLE1",
        "outputId": "8ca1421e-bc85-4697-f195-eb767023e8fb"
      },
      "execution_count": 11,
      "outputs": [
        {
          "output_type": "execute_result",
          "data": {
            "text/plain": [
              "[array([[2.1431756]], dtype=float32), array([22.838335], dtype=float32)]"
            ]
          },
          "metadata": {},
          "execution_count": 11
        }
      ]
    },
    {
      "cell_type": "code",
      "source": [
        "2.037*40+24.526 #wx+b"
      ],
      "metadata": {
        "colab": {
          "base_uri": "https://localhost:8080/"
        },
        "id": "6AApvmYfu39w",
        "outputId": "cf13e350-c2fa-47b1-e5a7-febbf533709c"
      },
      "execution_count": 12,
      "outputs": [
        {
          "output_type": "execute_result",
          "data": {
            "text/plain": [
              "106.00599999999999"
            ]
          },
          "metadata": {},
          "execution_count": 12
        }
      ]
    },
    {
      "cell_type": "code",
      "source": [
        "model.predict(independent) #전체 독립 예측"
      ],
      "metadata": {
        "id": "1texn6u9sIIe",
        "colab": {
          "base_uri": "https://localhost:8080/"
        },
        "outputId": "b885fa5f-b3bf-43ed-cbb0-f8c798b60fe9"
      },
      "execution_count": 13,
      "outputs": [
        {
          "output_type": "execute_result",
          "data": {
            "text/plain": [
              "array([[ 24.98151 ],\n",
              "       [ 27.124687],\n",
              "       [ 29.267862],\n",
              "       [ 31.411037],\n",
              "       [ 33.554214],\n",
              "       [ 35.697388],\n",
              "       [ 37.840565],\n",
              "       [ 39.98374 ],\n",
              "       [ 42.126915],\n",
              "       [ 44.27009 ],\n",
              "       [ 46.41327 ],\n",
              "       [ 48.556442],\n",
              "       [ 50.699615],\n",
              "       [ 52.842796],\n",
              "       [ 54.98597 ],\n",
              "       [ 57.129143],\n",
              "       [ 59.272324],\n",
              "       [ 61.415497],\n",
              "       [ 63.55867 ],\n",
              "       [ 65.70184 ],\n",
              "       [ 67.845024],\n",
              "       [ 69.9882  ],\n",
              "       [ 72.13137 ],\n",
              "       [ 74.27455 ],\n",
              "       [ 76.417725],\n",
              "       [ 78.5609  ],\n",
              "       [ 80.70408 ],\n",
              "       [ 82.84725 ],\n",
              "       [ 84.990425],\n",
              "       [ 87.1336  ],\n",
              "       [ 89.27678 ],\n",
              "       [ 91.41995 ],\n",
              "       [ 93.563126],\n",
              "       [ 95.70631 ],\n",
              "       [ 97.84948 ],\n",
              "       [ 99.99265 ],\n",
              "       [102.13583 ],\n",
              "       [104.27901 ],\n",
              "       [106.42218 ],\n",
              "       [108.56535 ],\n",
              "       [110.708534],\n",
              "       [112.85171 ],\n",
              "       [114.99488 ],\n",
              "       [117.13806 ],\n",
              "       [119.281235],\n",
              "       [121.42441 ],\n",
              "       [123.56759 ],\n",
              "       [125.71076 ],\n",
              "       [127.853935],\n",
              "       [129.99712 ],\n",
              "       [132.14029 ],\n",
              "       [134.28346 ],\n",
              "       [136.42665 ],\n",
              "       [138.56982 ],\n",
              "       [140.713   ],\n",
              "       [142.85617 ],\n",
              "       [144.99934 ],\n",
              "       [147.14252 ],\n",
              "       [149.28569 ],\n",
              "       [151.42886 ],\n",
              "       [153.57205 ],\n",
              "       [155.71523 ],\n",
              "       [157.8584  ],\n",
              "       [160.00157 ],\n",
              "       [162.14474 ],\n",
              "       [164.28792 ],\n",
              "       [166.43109 ],\n",
              "       [168.57428 ],\n",
              "       [170.71745 ],\n",
              "       [172.86063 ],\n",
              "       [175.0038  ],\n",
              "       [177.14697 ],\n",
              "       [179.29015 ],\n",
              "       [181.43333 ],\n",
              "       [183.5765  ],\n",
              "       [185.71968 ],\n",
              "       [187.86285 ],\n",
              "       [190.00603 ],\n",
              "       [192.1492  ],\n",
              "       [194.29237 ],\n",
              "       [196.43556 ],\n",
              "       [198.57874 ],\n",
              "       [200.72191 ],\n",
              "       [202.86508 ],\n",
              "       [205.00826 ],\n",
              "       [207.15143 ],\n",
              "       [209.29462 ],\n",
              "       [211.43779 ],\n",
              "       [213.58096 ],\n",
              "       [215.72414 ],\n",
              "       [217.86731 ],\n",
              "       [220.01048 ],\n",
              "       [222.15367 ],\n",
              "       [224.29684 ],\n",
              "       [226.44002 ],\n",
              "       [228.58319 ],\n",
              "       [230.72636 ],\n",
              "       [232.86954 ],\n",
              "       [235.01271 ],\n",
              "       [237.1559  ]], dtype=float32)"
            ]
          },
          "metadata": {},
          "execution_count": 13
        }
      ]
    },
    {
      "cell_type": "markdown",
      "source": [
        "첫 번째의 값: w <br>\n",
        "두 번째의 값: b\n",
        "<br>\n",
        "y=wx+b에서 x는 50,40 등을 넣으면 최종적으로 y가 예측이 된다! \n",
        "<br><br>\n",
        "즉, 딥러닝에선 w,b를 자동으로 찾아주게 된다.\n",
        "x=독립변수(일자) <br>\n",
        "y=종속변수(stock)\n",
        "<br><br>\n",
        "정확하지 않기에, 계속해서 훈련을 시킨다.<br>\n",
        "`epochs=100`에서 `epochs=10000`으로 늘린다면 훈련의 수를 더 늘리게 되는 것이다.\n",
        "\n"
      ],
      "metadata": {
        "id": "OJfbNfsnsRZF"
      }
    },
    {
      "cell_type": "code",
      "source": [
        "plt.plot(np.arange(1,101),stock)\n",
        "plt.plot(np.arange(1,101),2.037*np.arange(1,101)+24.526)\n",
        "\n",
        "plt.show()"
      ],
      "metadata": {
        "colab": {
          "base_uri": "https://localhost:8080/",
          "height": 265
        },
        "id": "oMIX6zZ2to5O",
        "outputId": "1588f184-8b3f-48fd-add1-e8efcb506faf"
      },
      "execution_count": 14,
      "outputs": [
        {
          "output_type": "display_data",
          "data": {
            "text/plain": [
              "<Figure size 432x288 with 1 Axes>"
            ],
            "image/png": "[encoded data removed]"
          },
          "metadata": {
            "needs_background": "light"
          }
        }
      ]
    },
    {
      "cell_type": "code",
      "source": [
        "errorValue=dependent-model.predict(independent) #오차값\n",
        "errorValue"
      ],
      "metadata": {
        "colab": {
          "base_uri": "https://localhost:8080/",
          "height": 423
        },
        "id": "sMLsl0pJvxGm",
        "outputId": "e87d87c7-6b81-4e20-84e3-6146ced7690e"
      },
      "execution_count": 15,
      "outputs": [
        {
          "output_type": "execute_result",
          "data": {
            "text/plain": [
              "            0\n",
              "0   11.018490\n",
              "1  -10.124687\n",
              "2  -10.267862\n",
              "3    2.588963\n",
              "4   -8.554214\n",
              "..        ...\n",
              "95   3.416809\n",
              "96  -0.726364\n",
              "97   0.130463\n",
              "98 -16.012711\n",
              "99   7.844101\n",
              "\n",
              "[100 rows x 1 columns]"
            ],
            "text/html": [
              "\n",
              "  <div id=\"df-126bce17-7477-45e7-b224-ca6a3c594627\">\n",
              "    <div class=\"colab-df-container\">\n",
              "      <div>\n",
              "<style scoped>\n",
              "    .dataframe tbody tr th:only-of-type {\n",
              "        vertical-align: middle;\n",
              "    }\n",
              "\n",
              "    .dataframe tbody tr th {\n",
              "        vertical-align: top;\n",
              "    }\n",
              "\n",
              "    .dataframe thead th {\n",
              "        text-align: right;\n",
              "    }\n",
              "</style>\n",
              "<table border=\"1\" class=\"dataframe\">\n",
              "  <thead>\n",
              "    <tr style=\"text-align: right;\">\n",
              "      <th></th>\n",
              "      <th>0</th>\n",
              "    </tr>\n",
              "  </thead>\n",
              "  <tbody>\n",
              "    <tr>\n",
              "      <th>0</th>\n",
              "      <td>11.018490</td>\n",
              "    </tr>\n",
              "    <tr>\n",
              "      <th>1</th>\n",
              "      <td>-10.124687</td>\n",
              "    </tr>\n",
              "    <tr>\n",
              "      <th>2</th>\n",
              "      <td>-10.267862</td>\n",
              "    </tr>\n",
              "    <tr>\n",
              "      <th>3</th>\n",
              "      <td>2.588963</td>\n",
              "    </tr>\n",
              "    <tr>\n",
              "      <th>4</th>\n",
              "      <td>-8.554214</td>\n",
              "    </tr>\n",
              "    <tr>\n",
              "      <th>...</th>\n",
              "      <td>...</td>\n",
              "    </tr>\n",
              "    <tr>\n",
              "      <th>95</th>\n",
              "      <td>3.416809</td>\n",
              "    </tr>\n",
              "    <tr>\n",
              "      <th>96</th>\n",
              "      <td>-0.726364</td>\n",
              "    </tr>\n",
              "    <tr>\n",
              "      <th>97</th>\n",
              "      <td>0.130463</td>\n",
              "    </tr>\n",
              "    <tr>\n",
              "      <th>98</th>\n",
              "      <td>-16.012711</td>\n",
              "    </tr>\n",
              "    <tr>\n",
              "      <th>99</th>\n",
              "      <td>7.844101</td>\n",
              "    </tr>\n",
              "  </tbody>\n",
              "</table>\n",
              "<p>100 rows × 1 columns</p>\n",
              "</div>\n",
              "      <button class=\"colab-df-convert\" onclick=\"convertToInteractive('df-126bce17-7477-45e7-b224-ca6a3c594627')\"\n",
              "              title=\"Convert this dataframe to an interactive table.\"\n",
              "              style=\"display:none;\">\n",
              "        \n",
              "  <svg xmlns=\"http://www.w3.org/2000/svg\" height=\"24px\"viewBox=\"0 0 24 24\"\n",
              "       width=\"24px\">\n",
              "    <path d=\"M0 0h24v24H0V0z\" fill=\"none\"/>\n",
              "    <path d=\"M18.56 5.44l.94 2.06.94-2.06 2.06-.94-2.06-.94-.94-2.06-.94 2.06-2.06.94zm-11 1L8.5 8.5l.94-2.06 2.06-.94-2.06-.94L8.5 2.5l-.94 2.06-2.06.94zm10 10l.94 2.06.94-2.06 2.06-.94-2.06-.94-.94-2.06-.94 2.06-2.06.94z\"/><path d=\"M17.41 7.96l-1.37-1.37c-.4-.4-.92-.59-1.43-.59-.52 0-1.04.2-1.43.59L10.3 9.45l-7.72 7.72c-.78.78-.78 2.05 0 2.83L4 21.41c.39.39.9.59 1.41.59.51 0 1.02-.2 1.41-.59l7.78-7.78 2.81-2.81c.8-.78.8-2.07 0-2.86zM5.41 20L4 18.59l7.72-7.72 1.47 1.35L5.41 20z\"/>\n",
              "  </svg>\n",
              "      </button>\n",
              "      \n",
              "  <style>\n",
              "    .colab-df-container {\n",
              "      display:flex;\n",
              "      flex-wrap:wrap;\n",
              "      gap: 12px;\n",
              "    }\n",
              "\n",
              "    .colab-df-convert {\n",
              "      background-color: #E8F0FE;\n",
              "      border: none;\n",
              "      border-radius: 50%;\n",
              "      cursor: pointer;\n",
              "      display: none;\n",
              "      fill: #1967D2;\n",
              "      height: 32px;\n",
              "      padding: 0 0 0 0;\n",
              "      width: 32px;\n",
              "    }\n",
              "\n",
              "    .colab-df-convert:hover {\n",
              "      background-color: #E2EBFA;\n",
              "      box-shadow: 0px 1px 2px rgba(60, 64, 67, 0.3), 0px 1px 3px 1px rgba(60, 64, 67, 0.15);\n",
              "      fill: #174EA6;\n",
              "    }\n",
              "\n",
              "    [theme=dark] .colab-df-convert {\n",
              "      background-color: #3B4455;\n",
              "      fill: #D2E3FC;\n",
              "    }\n",
              "\n",
              "    [theme=dark] .colab-df-convert:hover {\n",
              "      background-color: #434B5C;\n",
              "      box-shadow: 0px 1px 3px 1px rgba(0, 0, 0, 0.15);\n",
              "      filter: drop-shadow(0px 1px 2px rgba(0, 0, 0, 0.3));\n",
              "      fill: #FFFFFF;\n",
              "    }\n",
              "  </style>\n",
              "\n",
              "      <script>\n",
              "        const buttonEl =\n",
              "          document.querySelector('#df-126bce17-7477-45e7-b224-ca6a3c594627 button.colab-df-convert');\n",
              "        buttonEl.style.display =\n",
              "          google.colab.kernel.accessAllowed ? 'block' : 'none';\n",
              "\n",
              "        async function convertToInteractive(key) {\n",
              "          const element = document.querySelector('#df-126bce17-7477-45e7-b224-ca6a3c594627');\n",
              "          const dataTable =\n",
              "            await google.colab.kernel.invokeFunction('convertToInteractive',\n",
              "                                                     [key], {});\n",
              "          if (!dataTable) return;\n",
              "\n",
              "          const docLinkHtml = 'Like what you see? Visit the ' +\n",
              "            '<a target=\"_blank\" href=https://colab.research.google.com/notebooks/data_table.ipynb>data table notebook</a>'\n",
              "            + ' to learn more about interactive tables.';\n",
              "          element.innerHTML = '';\n",
              "          dataTable['output_type'] = 'display_data';\n",
              "          await google.colab.output.renderOutput(dataTable, element);\n",
              "          const docLink = document.createElement('div');\n",
              "          docLink.innerHTML = docLinkHtml;\n",
              "          element.appendChild(docLink);\n",
              "        }\n",
              "      </script>\n",
              "    </div>\n",
              "  </div>\n",
              "  "
            ]
          },
          "metadata": {},
          "execution_count": 15
        }
      ]
    },
    {
      "cell_type": "code",
      "source": [
        "errorValueDouble=errorValue**2\n",
        "errorValueDouble"
      ],
      "metadata": {
        "colab": {
          "base_uri": "https://localhost:8080/",
          "height": 423
        },
        "id": "B_fpfXzjv6V1",
        "outputId": "e5ee2372-17bd-4716-9fcd-bf5af8d89c85"
      },
      "execution_count": 16,
      "outputs": [
        {
          "output_type": "execute_result",
          "data": {
            "text/plain": [
              "             0\n",
              "0   121.407118\n",
              "1   102.509291\n",
              "2   105.428997\n",
              "3     6.702727\n",
              "4    73.174585\n",
              "..         ...\n",
              "95   11.674584\n",
              "96    0.527605\n",
              "97    0.017021\n",
              "98  256.406900\n",
              "99   61.529920\n",
              "\n",
              "[100 rows x 1 columns]"
            ],
            "text/html": [
              "\n",
              "  <div id=\"df-eb12e858-226b-4a28-81b4-172b888e4aa1\">\n",
              "    <div class=\"colab-df-container\">\n",
              "      <div>\n",
              "<style scoped>\n",
              "    .dataframe tbody tr th:only-of-type {\n",
              "        vertical-align: middle;\n",
              "    }\n",
              "\n",
              "    .dataframe tbody tr th {\n",
              "        vertical-align: top;\n",
              "    }\n",
              "\n",
              "    .dataframe thead th {\n",
              "        text-align: right;\n",
              "    }\n",
              "</style>\n",
              "<table border=\"1\" class=\"dataframe\">\n",
              "  <thead>\n",
              "    <tr style=\"text-align: right;\">\n",
              "      <th></th>\n",
              "      <th>0</th>\n",
              "    </tr>\n",
              "  </thead>\n",
              "  <tbody>\n",
              "    <tr>\n",
              "      <th>0</th>\n",
              "      <td>121.407118</td>\n",
              "    </tr>\n",
              "    <tr>\n",
              "      <th>1</th>\n",
              "      <td>102.509291</td>\n",
              "    </tr>\n",
              "    <tr>\n",
              "      <th>2</th>\n",
              "      <td>105.428997</td>\n",
              "    </tr>\n",
              "    <tr>\n",
              "      <th>3</th>\n",
              "      <td>6.702727</td>\n",
              "    </tr>\n",
              "    <tr>\n",
              "      <th>4</th>\n",
              "      <td>73.174585</td>\n",
              "    </tr>\n",
              "    <tr>\n",
              "      <th>...</th>\n",
              "      <td>...</td>\n",
              "    </tr>\n",
              "    <tr>\n",
              "      <th>95</th>\n",
              "      <td>11.674584</td>\n",
              "    </tr>\n",
              "    <tr>\n",
              "      <th>96</th>\n",
              "      <td>0.527605</td>\n",
              "    </tr>\n",
              "    <tr>\n",
              "      <th>97</th>\n",
              "      <td>0.017021</td>\n",
              "    </tr>\n",
              "    <tr>\n",
              "      <th>98</th>\n",
              "      <td>256.406900</td>\n",
              "    </tr>\n",
              "    <tr>\n",
              "      <th>99</th>\n",
              "      <td>61.529920</td>\n",
              "    </tr>\n",
              "  </tbody>\n",
              "</table>\n",
              "<p>100 rows × 1 columns</p>\n",
              "</div>\n",
              "      <button class=\"colab-df-convert\" onclick=\"convertToInteractive('df-eb12e858-226b-4a28-81b4-172b888e4aa1')\"\n",
              "              title=\"Convert this dataframe to an interactive table.\"\n",
              "              style=\"display:none;\">\n",
              "        \n",
              "  <svg xmlns=\"http://www.w3.org/2000/svg\" height=\"24px\"viewBox=\"0 0 24 24\"\n",
              "       width=\"24px\">\n",
              "    <path d=\"M0 0h24v24H0V0z\" fill=\"none\"/>\n",
              "    <path d=\"M18.56 5.44l.94 2.06.94-2.06 2.06-.94-2.06-.94-.94-2.06-.94 2.06-2.06.94zm-11 1L8.5 8.5l.94-2.06 2.06-.94-2.06-.94L8.5 2.5l-.94 2.06-2.06.94zm10 10l.94 2.06.94-2.06 2.06-.94-2.06-.94-.94-2.06-.94 2.06-2.06.94z\"/><path d=\"M17.41 7.96l-1.37-1.37c-.4-.4-.92-.59-1.43-.59-.52 0-1.04.2-1.43.59L10.3 9.45l-7.72 7.72c-.78.78-.78 2.05 0 2.83L4 21.41c.39.39.9.59 1.41.59.51 0 1.02-.2 1.41-.59l7.78-7.78 2.81-2.81c.8-.78.8-2.07 0-2.86zM5.41 20L4 18.59l7.72-7.72 1.47 1.35L5.41 20z\"/>\n",
              "  </svg>\n",
              "      </button>\n",
              "      \n",
              "  <style>\n",
              "    .colab-df-container {\n",
              "      display:flex;\n",
              "      flex-wrap:wrap;\n",
              "      gap: 12px;\n",
              "    }\n",
              "\n",
              "    .colab-df-convert {\n",
              "      background-color: #E8F0FE;\n",
              "      border: none;\n",
              "      border-radius: 50%;\n",
              "      cursor: pointer;\n",
              "      display: none;\n",
              "      fill: #1967D2;\n",
              "      height: 32px;\n",
              "      padding: 0 0 0 0;\n",
              "      width: 32px;\n",
              "    }\n",
              "\n",
              "    .colab-df-convert:hover {\n",
              "      background-color: #E2EBFA;\n",
              "      box-shadow: 0px 1px 2px rgba(60, 64, 67, 0.3), 0px 1px 3px 1px rgba(60, 64, 67, 0.15);\n",
              "      fill: #174EA6;\n",
              "    }\n",
              "\n",
              "    [theme=dark] .colab-df-convert {\n",
              "      background-color: #3B4455;\n",
              "      fill: #D2E3FC;\n",
              "    }\n",
              "\n",
              "    [theme=dark] .colab-df-convert:hover {\n",
              "      background-color: #434B5C;\n",
              "      box-shadow: 0px 1px 3px 1px rgba(0, 0, 0, 0.15);\n",
              "      filter: drop-shadow(0px 1px 2px rgba(0, 0, 0, 0.3));\n",
              "      fill: #FFFFFF;\n",
              "    }\n",
              "  </style>\n",
              "\n",
              "      <script>\n",
              "        const buttonEl =\n",
              "          document.querySelector('#df-eb12e858-226b-4a28-81b4-172b888e4aa1 button.colab-df-convert');\n",
              "        buttonEl.style.display =\n",
              "          google.colab.kernel.accessAllowed ? 'block' : 'none';\n",
              "\n",
              "        async function convertToInteractive(key) {\n",
              "          const element = document.querySelector('#df-eb12e858-226b-4a28-81b4-172b888e4aa1');\n",
              "          const dataTable =\n",
              "            await google.colab.kernel.invokeFunction('convertToInteractive',\n",
              "                                                     [key], {});\n",
              "          if (!dataTable) return;\n",
              "\n",
              "          const docLinkHtml = 'Like what you see? Visit the ' +\n",
              "            '<a target=\"_blank\" href=https://colab.research.google.com/notebooks/data_table.ipynb>data table notebook</a>'\n",
              "            + ' to learn more about interactive tables.';\n",
              "          element.innerHTML = '';\n",
              "          dataTable['output_type'] = 'display_data';\n",
              "          await google.colab.output.renderOutput(dataTable, element);\n",
              "          const docLink = document.createElement('div');\n",
              "          docLink.innerHTML = docLinkHtml;\n",
              "          element.appendChild(docLink);\n",
              "        }\n",
              "      </script>\n",
              "    </div>\n",
              "  </div>\n",
              "  "
            ]
          },
          "metadata": {},
          "execution_count": 16
        }
      ]
    },
    {
      "cell_type": "code",
      "source": [
        "(errorValueDouble.sum())/100 #MSE"
      ],
      "metadata": {
        "colab": {
          "base_uri": "https://localhost:8080/"
        },
        "id": "KkrMnyA4wJiV",
        "outputId": "ba0d1a13-db3b-4616-b506-f03bda308959"
      },
      "execution_count": 17,
      "outputs": [
        {
          "output_type": "execute_result",
          "data": {
            "text/plain": [
              "0    125.625109\n",
              "dtype: float64"
            ]
          },
          "metadata": {},
          "execution_count": 17
        }
      ]
    },
    {
      "cell_type": "markdown",
      "source": [
        "## 최소 제곱법\n",
        "기존의 통계학적 지식으로 위에서 예측한 노란색 선을 그리는 방법"
      ],
      "metadata": {
        "id": "tute0lVkwZ0V"
      }
    },
    {
      "cell_type": "markdown",
      "source": [
        "### a값 구하기"
      ],
      "metadata": {
        "id": "RtQSKEb2ynJ0"
      }
    },
    {
      "cell_type": "code",
      "source": [
        "mulTwo=independent*dependent\n",
        "int(100*mulTwo.sum())"
      ],
      "metadata": {
        "colab": {
          "base_uri": "https://localhost:8080/"
        },
        "id": "ju4RGsQ5wbgf",
        "outputId": "bcefaed6-5e16-40e7-ee34-8d0fbb9046ac"
      },
      "execution_count": 18,
      "outputs": [
        {
          "output_type": "execute_result",
          "data": {
            "text/plain": [
              "83939200"
            ]
          },
          "metadata": {},
          "execution_count": 18
        }
      ]
    },
    {
      "cell_type": "code",
      "source": [
        "int(independent.sum()*dependent.sum())"
      ],
      "metadata": {
        "colab": {
          "base_uri": "https://localhost:8080/"
        },
        "id": "tJ4XeTg8xRjU",
        "outputId": "155804c3-9fcb-4c0d-a742-f31f7f5a2c7d"
      },
      "execution_count": 19,
      "outputs": [
        {
          "output_type": "execute_result",
          "data": {
            "text/plain": [
              "66432750"
            ]
          },
          "metadata": {},
          "execution_count": 19
        }
      ]
    },
    {
      "cell_type": "code",
      "source": [
        "int(100*(independent**2).sum())"
      ],
      "metadata": {
        "colab": {
          "base_uri": "https://localhost:8080/"
        },
        "id": "qbL4a9j4xgUI",
        "outputId": "ca9ce091-a6c3-48c0-dfb4-689429d513e4"
      },
      "execution_count": 20,
      "outputs": [
        {
          "output_type": "execute_result",
          "data": {
            "text/plain": [
              "33835000"
            ]
          },
          "metadata": {},
          "execution_count": 20
        }
      ]
    },
    {
      "cell_type": "code",
      "source": [
        "int(independent.sum()*independent.sum())"
      ],
      "metadata": {
        "colab": {
          "base_uri": "https://localhost:8080/"
        },
        "id": "r9lAs2enxlbE",
        "outputId": "f513907a-19b1-4499-8667-0cbb35fe2a89"
      },
      "execution_count": 21,
      "outputs": [
        {
          "output_type": "execute_result",
          "data": {
            "text/plain": [
              "25502500"
            ]
          },
          "metadata": {},
          "execution_count": 21
        }
      ]
    },
    {
      "cell_type": "code",
      "source": [
        "numeratorW=int(100*mulTwo.sum())-int(independent.sum()*dependent.sum())#분자\n",
        "denominatorW=int(100*(independent**2).sum())-int(independent.sum()*independent.sum()) #분모"
      ],
      "metadata": {
        "id": "3N8XY3kpxq7L"
      },
      "execution_count": 22,
      "outputs": []
    },
    {
      "cell_type": "code",
      "source": [
        "numeratorW/denominatorW #w값"
      ],
      "metadata": {
        "colab": {
          "base_uri": "https://localhost:8080/"
        },
        "id": "VpDk5vHvyVyl",
        "outputId": "f5a86988-71d1-4289-a221-3e96cacf01db"
      },
      "execution_count": 23,
      "outputs": [
        {
          "output_type": "execute_result",
          "data": {
            "text/plain": [
              "2.100984098409841"
            ]
          },
          "metadata": {},
          "execution_count": 23
        }
      ]
    },
    {
      "cell_type": "code",
      "source": [
        "model.get_weights()"
      ],
      "metadata": {
        "colab": {
          "base_uri": "https://localhost:8080/"
        },
        "id": "hG5IwtkRyZ9x",
        "outputId": "c380c34b-64ca-4ecc-f6ed-14f68054858e"
      },
      "execution_count": 24,
      "outputs": [
        {
          "output_type": "execute_result",
          "data": {
            "text/plain": [
              "[array([[2.1431756]], dtype=float32), array([22.838335], dtype=float32)]"
            ]
          },
          "metadata": {},
          "execution_count": 24
        }
      ]
    },
    {
      "cell_type": "markdown",
      "source": [
        "### b값 구하기"
      ],
      "metadata": {
        "id": "n8-XI-Ozyk61"
      }
    },
    {
      "cell_type": "code",
      "source": [
        "numeratorB=((independent**2).sum()*dependent.sum())-(independent.sum()*(independent*dependent).sum())#분자\n",
        "denominatorB=int(100*(independent**2).sum())-int(independent.sum()*independent.sum()) #분모"
      ],
      "metadata": {
        "id": "wb8hzuO7yiOC"
      },
      "execution_count": 25,
      "outputs": []
    },
    {
      "cell_type": "code",
      "source": [
        "numeratorB/denominatorB"
      ],
      "metadata": {
        "colab": {
          "base_uri": "https://localhost:8080/"
        },
        "id": "kkXKk9f1zbe5",
        "outputId": "624701ed-51ad-4dce-8ed3-27a298341c3d"
      },
      "execution_count": 26,
      "outputs": [
        {
          "output_type": "execute_result",
          "data": {
            "text/plain": [
              "0    25.450303\n",
              "dtype: float64"
            ]
          },
          "metadata": {},
          "execution_count": 26
        }
      ]
    },
    {
      "cell_type": "markdown",
      "source": [
        "### 통계학적이 아닌 딥러닝으로 계산하는 이유\n",
        "더 복잡한 데이터와 패턴을 계산할 수 있기 때문이다."
      ],
      "metadata": {
        "id": "XWRhCFoFzjIA"
      }
    },
    {
      "cell_type": "markdown",
      "source": [
        "## 단순 데이터의 히든레이어\n",
        "### 구성요소\n",
        "Input layer: 2개(x1,x2)<br>\n",
        "Hidden layer: 2개<br>\n",
        "Output layer: 1개\n",
        "\n",
        "### 관계\n",
        "1. y = w1*x1 +b\n",
        "1. y = w2*x1 +b\n",
        "1. y = w3*x2 +b\n",
        "1. y = w4*x2 +b\n",
        "1. y = w5*x3 +b\n",
        "1. y = w6*x4 +b\n",
        "\n",
        "+ x3 = w1 * x1 + w3 * y2 \n",
        "+ x4 = w2 * x1 + w4 * y2 \n"
      ],
      "metadata": {
        "id": "wOoFXPxUzsa4"
      }
    },
    {
      "cell_type": "code",
      "source": [
        "sales=[2,5,10,20,40,80]\n",
        "advertise=[1,2,4,6,8,10]\n",
        "profit=[1,1.5,3,10,20,60]"
      ],
      "metadata": {
        "id": "j_lpC7k4zv2U"
      },
      "execution_count": 27,
      "outputs": []
    },
    {
      "cell_type": "code",
      "source": [
        "plt.plot(np.arange(1,7),sales,label=\"sales\")\n",
        "plt.plot(np.arange(1,7),advertise,label=\"advertise\")\n",
        "plt.plot(np.arange(1,7),profit,label=\"profit\")\n",
        "\n",
        "plt.legend()\n",
        "plt.show()"
      ],
      "metadata": {
        "colab": {
          "base_uri": "https://localhost:8080/",
          "height": 265
        },
        "id": "86b7a46TsGRM",
        "outputId": "b3fe8e79-a85d-4769-ac1f-ed393f7fd88f"
      },
      "execution_count": 28,
      "outputs": [
        {
          "output_type": "display_data",
          "data": {
            "text/plain": [
              "<Figure size 432x288 with 1 Axes>"
            ],
            "image/png": "[encoded data removed]"
          },
          "metadata": {
            "needs_background": "light"
          }
        }
      ]
    },
    {
      "cell_type": "code",
      "source": [
        "independent=pd.DataFrame({\n",
        "    'sales':sales,\n",
        "    'advertise':advertise\n",
        "})\n",
        "dependent=pd.DataFrame({\n",
        "    'profit':profit\n",
        "})\n",
        "independent.shape, dependent.shape"
      ],
      "metadata": {
        "colab": {
          "base_uri": "https://localhost:8080/"
        },
        "id": "bVgj6-CItrVx",
        "outputId": "0e65f2fa-1088-4aaf-aa1c-9cfd9cb1328a"
      },
      "execution_count": 29,
      "outputs": [
        {
          "output_type": "execute_result",
          "data": {
            "text/plain": [
              "((6, 2), (6, 1))"
            ]
          },
          "metadata": {},
          "execution_count": 29
        }
      ]
    },
    {
      "cell_type": "code",
      "source": [
        "independent"
      ],
      "metadata": {
        "colab": {
          "base_uri": "https://localhost:8080/",
          "height": 238
        },
        "id": "OCyaSQs6uBhG",
        "outputId": "a2514abf-7a1d-49a5-91b0-7a2e2f582499"
      },
      "execution_count": 30,
      "outputs": [
        {
          "output_type": "execute_result",
          "data": {
            "text/plain": [
              "   sales  advertise\n",
              "0      2          1\n",
              "1      5          2\n",
              "2     10          4\n",
              "3     20          6\n",
              "4     40          8\n",
              "5     80         10"
            ],
            "text/html": [
              "\n",
              "  <div id=\"df-8d3b64bb-adc3-426b-8e5c-42ee25435fc5\">\n",
              "    <div class=\"colab-df-container\">\n",
              "      <div>\n",
              "<style scoped>\n",
              "    .dataframe tbody tr th:only-of-type {\n",
              "        vertical-align: middle;\n",
              "    }\n",
              "\n",
              "    .dataframe tbody tr th {\n",
              "        vertical-align: top;\n",
              "    }\n",
              "\n",
              "    .dataframe thead th {\n",
              "        text-align: right;\n",
              "    }\n",
              "</style>\n",
              "<table border=\"1\" class=\"dataframe\">\n",
              "  <thead>\n",
              "    <tr style=\"text-align: right;\">\n",
              "      <th></th>\n",
              "      <th>sales</th>\n",
              "      <th>advertise</th>\n",
              "    </tr>\n",
              "  </thead>\n",
              "  <tbody>\n",
              "    <tr>\n",
              "      <th>0</th>\n",
              "      <td>2</td>\n",
              "      <td>1</td>\n",
              "    </tr>\n",
              "    <tr>\n",
              "      <th>1</th>\n",
              "      <td>5</td>\n",
              "      <td>2</td>\n",
              "    </tr>\n",
              "    <tr>\n",
              "      <th>2</th>\n",
              "      <td>10</td>\n",
              "      <td>4</td>\n",
              "    </tr>\n",
              "    <tr>\n",
              "      <th>3</th>\n",
              "      <td>20</td>\n",
              "      <td>6</td>\n",
              "    </tr>\n",
              "    <tr>\n",
              "      <th>4</th>\n",
              "      <td>40</td>\n",
              "      <td>8</td>\n",
              "    </tr>\n",
              "    <tr>\n",
              "      <th>5</th>\n",
              "      <td>80</td>\n",
              "      <td>10</td>\n",
              "    </tr>\n",
              "  </tbody>\n",
              "</table>\n",
              "</div>\n",
              "      <button class=\"colab-df-convert\" onclick=\"convertToInteractive('df-8d3b64bb-adc3-426b-8e5c-42ee25435fc5')\"\n",
              "              title=\"Convert this dataframe to an interactive table.\"\n",
              "              style=\"display:none;\">\n",
              "        \n",
              "  <svg xmlns=\"http://www.w3.org/2000/svg\" height=\"24px\"viewBox=\"0 0 24 24\"\n",
              "       width=\"24px\">\n",
              "    <path d=\"M0 0h24v24H0V0z\" fill=\"none\"/>\n",
              "    <path d=\"M18.56 5.44l.94 2.06.94-2.06 2.06-.94-2.06-.94-.94-2.06-.94 2.06-2.06.94zm-11 1L8.5 8.5l.94-2.06 2.06-.94-2.06-.94L8.5 2.5l-.94 2.06-2.06.94zm10 10l.94 2.06.94-2.06 2.06-.94-2.06-.94-.94-2.06-.94 2.06-2.06.94z\"/><path d=\"M17.41 7.96l-1.37-1.37c-.4-.4-.92-.59-1.43-.59-.52 0-1.04.2-1.43.59L10.3 9.45l-7.72 7.72c-.78.78-.78 2.05 0 2.83L4 21.41c.39.39.9.59 1.41.59.51 0 1.02-.2 1.41-.59l7.78-7.78 2.81-2.81c.8-.78.8-2.07 0-2.86zM5.41 20L4 18.59l7.72-7.72 1.47 1.35L5.41 20z\"/>\n",
              "  </svg>\n",
              "      </button>\n",
              "      \n",
              "  <style>\n",
              "    .colab-df-container {\n",
              "      display:flex;\n",
              "      flex-wrap:wrap;\n",
              "      gap: 12px;\n",
              "    }\n",
              "\n",
              "    .colab-df-convert {\n",
              "      background-color: #E8F0FE;\n",
              "      border: none;\n",
              "      border-radius: 50%;\n",
              "      cursor: pointer;\n",
              "      display: none;\n",
              "      fill: #1967D2;\n",
              "      height: 32px;\n",
              "      padding: 0 0 0 0;\n",
              "      width: 32px;\n",
              "    }\n",
              "\n",
              "    .colab-df-convert:hover {\n",
              "      background-color: #E2EBFA;\n",
              "      box-shadow: 0px 1px 2px rgba(60, 64, 67, 0.3), 0px 1px 3px 1px rgba(60, 64, 67, 0.15);\n",
              "      fill: #174EA6;\n",
              "    }\n",
              "\n",
              "    [theme=dark] .colab-df-convert {\n",
              "      background-color: #3B4455;\n",
              "      fill: #D2E3FC;\n",
              "    }\n",
              "\n",
              "    [theme=dark] .colab-df-convert:hover {\n",
              "      background-color: #434B5C;\n",
              "      box-shadow: 0px 1px 3px 1px rgba(0, 0, 0, 0.15);\n",
              "      filter: drop-shadow(0px 1px 2px rgba(0, 0, 0, 0.3));\n",
              "      fill: #FFFFFF;\n",
              "    }\n",
              "  </style>\n",
              "\n",
              "      <script>\n",
              "        const buttonEl =\n",
              "          document.querySelector('#df-8d3b64bb-adc3-426b-8e5c-42ee25435fc5 button.colab-df-convert');\n",
              "        buttonEl.style.display =\n",
              "          google.colab.kernel.accessAllowed ? 'block' : 'none';\n",
              "\n",
              "        async function convertToInteractive(key) {\n",
              "          const element = document.querySelector('#df-8d3b64bb-adc3-426b-8e5c-42ee25435fc5');\n",
              "          const dataTable =\n",
              "            await google.colab.kernel.invokeFunction('convertToInteractive',\n",
              "                                                     [key], {});\n",
              "          if (!dataTable) return;\n",
              "\n",
              "          const docLinkHtml = 'Like what you see? Visit the ' +\n",
              "            '<a target=\"_blank\" href=https://colab.research.google.com/notebooks/data_table.ipynb>data table notebook</a>'\n",
              "            + ' to learn more about interactive tables.';\n",
              "          element.innerHTML = '';\n",
              "          dataTable['output_type'] = 'display_data';\n",
              "          await google.colab.output.renderOutput(dataTable, element);\n",
              "          const docLink = document.createElement('div');\n",
              "          docLink.innerHTML = docLinkHtml;\n",
              "          element.appendChild(docLink);\n",
              "        }\n",
              "      </script>\n",
              "    </div>\n",
              "  </div>\n",
              "  "
            ]
          },
          "metadata": {},
          "execution_count": 30
        }
      ]
    },
    {
      "cell_type": "code",
      "source": [
        "X=tf.keras.layers.Input(shape=[2]) #독립변수 col\n",
        "H=tf.keras.layers.Dense(2,activation='swish')(X) #히든 레이어, 안의 수는 node수에 해당함\n",
        "H=tf.keras.layers.Dense(2,activation='swish')(H) #히든 레이어\n",
        "Y=tf.keras.layers.Dense(1)(H)\n",
        "model=tf.keras.models.Model(X,Y)\n",
        "model.compile(loss='mse')"
      ],
      "metadata": {
        "id": "s8yhJ0PduDMp"
      },
      "execution_count": 31,
      "outputs": []
    },
    {
      "cell_type": "code",
      "source": [
        "model.fit(independent,dependent,epochs=10000,verbose=0) #1만번 학습, 출력 없이\n",
        "model.fit(independent,dependent,epochs=10)"
      ],
      "metadata": {
        "colab": {
          "base_uri": "https://localhost:8080/"
        },
        "id": "gvDcRC43ujA_",
        "outputId": "4af111b5-a75a-4056-9394-7b79030f6186"
      },
      "execution_count": 32,
      "outputs": [
        {
          "output_type": "stream",
          "name": "stdout",
          "text": [
            "Epoch 1/10\n",
            "1/1 [==============================] - 0s 10ms/step - loss: 323.5455\n",
            "Epoch 2/10\n",
            "1/1 [==============================] - 0s 10ms/step - loss: 323.5223\n",
            "Epoch 3/10\n",
            "1/1 [==============================] - 0s 8ms/step - loss: 323.4960\n",
            "Epoch 4/10\n",
            "1/1 [==============================] - 0s 7ms/step - loss: 323.4728\n",
            "Epoch 5/10\n",
            "1/1 [==============================] - 0s 5ms/step - loss: 323.4465\n",
            "Epoch 6/10\n",
            "1/1 [==============================] - 0s 5ms/step - loss: 323.4233\n",
            "Epoch 7/10\n",
            "1/1 [==============================] - 0s 7ms/step - loss: 323.3971\n",
            "Epoch 8/10\n",
            "1/1 [==============================] - 0s 5ms/step - loss: 323.3739\n",
            "Epoch 9/10\n",
            "1/1 [==============================] - 0s 5ms/step - loss: 323.3476\n",
            "Epoch 10/10\n",
            "1/1 [==============================] - 0s 5ms/step - loss: 323.3244\n"
          ]
        },
        {
          "output_type": "execute_result",
          "data": {
            "text/plain": [
              "<keras.callbacks.History at 0x7fc4f9de8cd0>"
            ]
          },
          "metadata": {},
          "execution_count": 32
        }
      ]
    },
    {
      "cell_type": "code",
      "source": [
        "model.get_weights() #출력되는 수가 많은 이유는 차원이 많기때문임"
      ],
      "metadata": {
        "colab": {
          "base_uri": "https://localhost:8080/"
        },
        "id": "VYo5WBmFuzNY",
        "outputId": "47a05caf-0382-4fb0-eacf-21df41268c0a"
      },
      "execution_count": 33,
      "outputs": [
        {
          "output_type": "execute_result",
          "data": {
            "text/plain": [
              "[array([[-0.02203474, -0.19334507],\n",
              "        [ 0.45444834,  0.75037384]], dtype=float32),\n",
              " array([-0.2857253,  1.7857746], dtype=float32),\n",
              " array([[-0.6076679 , -0.35966954],\n",
              "        [ 0.21056484,  0.62150085]], dtype=float32),\n",
              " array([ 0.15522686, -0.42256537], dtype=float32),\n",
              " array([[-11.225564],\n",
              "        [-10.757176]], dtype=float32),\n",
              " array([10.009192], dtype=float32)]"
            ]
          },
          "metadata": {},
          "execution_count": 33
        }
      ]
    },
    {
      "cell_type": "code",
      "source": [
        "model.predict([[10,4]])"
      ],
      "metadata": {
        "colab": {
          "base_uri": "https://localhost:8080/"
        },
        "id": "HfzQmHUGu6xB",
        "outputId": "6166c9b3-66e6-44ce-8561-6acd1b6e796d"
      },
      "execution_count": 34,
      "outputs": [
        {
          "output_type": "execute_result",
          "data": {
            "text/plain": [
              "array([[2.730319]], dtype=float32)"
            ]
          },
          "metadata": {},
          "execution_count": 34
        }
      ]
    },
    {
      "cell_type": "code",
      "source": [
        "model.predict(independent)"
      ],
      "metadata": {
        "colab": {
          "base_uri": "https://localhost:8080/"
        },
        "id": "gLwMxal3vETn",
        "outputId": "ed73a46a-76bf-47f8-9e2d-9fd0df28393d"
      },
      "execution_count": 35,
      "outputs": [
        {
          "output_type": "execute_result",
          "data": {
            "text/plain": [
              "array([[ 0.8652172],\n",
              "       [ 1.5769243],\n",
              "       [ 2.730319 ],\n",
              "       [ 9.932482 ],\n",
              "       [16.12294  ],\n",
              "       [16.1291   ]], dtype=float32)"
            ]
          },
          "metadata": {},
          "execution_count": 35
        }
      ]
    },
    {
      "cell_type": "code",
      "source": [
        "dependent"
      ],
      "metadata": {
        "colab": {
          "base_uri": "https://localhost:8080/",
          "height": 238
        },
        "id": "j_xUVJDMvHFU",
        "outputId": "758531ae-bb92-4f6a-ec45-f56d73439327"
      },
      "execution_count": 36,
      "outputs": [
        {
          "output_type": "execute_result",
          "data": {
            "text/plain": [
              "   profit\n",
              "0     1.0\n",
              "1     1.5\n",
              "2     3.0\n",
              "3    10.0\n",
              "4    20.0\n",
              "5    60.0"
            ],
            "text/html": [
              "\n",
              "  <div id=\"df-270d5c81-bc9e-4b7c-8f36-116934f48bf0\">\n",
              "    <div class=\"colab-df-container\">\n",
              "      <div>\n",
              "<style scoped>\n",
              "    .dataframe tbody tr th:only-of-type {\n",
              "        vertical-align: middle;\n",
              "    }\n",
              "\n",
              "    .dataframe tbody tr th {\n",
              "        vertical-align: top;\n",
              "    }\n",
              "\n",
              "    .dataframe thead th {\n",
              "        text-align: right;\n",
              "    }\n",
              "</style>\n",
              "<table border=\"1\" class=\"dataframe\">\n",
              "  <thead>\n",
              "    <tr style=\"text-align: right;\">\n",
              "      <th></th>\n",
              "      <th>profit</th>\n",
              "    </tr>\n",
              "  </thead>\n",
              "  <tbody>\n",
              "    <tr>\n",
              "      <th>0</th>\n",
              "      <td>1.0</td>\n",
              "    </tr>\n",
              "    <tr>\n",
              "      <th>1</th>\n",
              "      <td>1.5</td>\n",
              "    </tr>\n",
              "    <tr>\n",
              "      <th>2</th>\n",
              "      <td>3.0</td>\n",
              "    </tr>\n",
              "    <tr>\n",
              "      <th>3</th>\n",
              "      <td>10.0</td>\n",
              "    </tr>\n",
              "    <tr>\n",
              "      <th>4</th>\n",
              "      <td>20.0</td>\n",
              "    </tr>\n",
              "    <tr>\n",
              "      <th>5</th>\n",
              "      <td>60.0</td>\n",
              "    </tr>\n",
              "  </tbody>\n",
              "</table>\n",
              "</div>\n",
              "      <button class=\"colab-df-convert\" onclick=\"convertToInteractive('df-270d5c81-bc9e-4b7c-8f36-116934f48bf0')\"\n",
              "              title=\"Convert this dataframe to an interactive table.\"\n",
              "              style=\"display:none;\">\n",
              "        \n",
              "  <svg xmlns=\"http://www.w3.org/2000/svg\" height=\"24px\"viewBox=\"0 0 24 24\"\n",
              "       width=\"24px\">\n",
              "    <path d=\"M0 0h24v24H0V0z\" fill=\"none\"/>\n",
              "    <path d=\"M18.56 5.44l.94 2.06.94-2.06 2.06-.94-2.06-.94-.94-2.06-.94 2.06-2.06.94zm-11 1L8.5 8.5l.94-2.06 2.06-.94-2.06-.94L8.5 2.5l-.94 2.06-2.06.94zm10 10l.94 2.06.94-2.06 2.06-.94-2.06-.94-.94-2.06-.94 2.06-2.06.94z\"/><path d=\"M17.41 7.96l-1.37-1.37c-.4-.4-.92-.59-1.43-.59-.52 0-1.04.2-1.43.59L10.3 9.45l-7.72 7.72c-.78.78-.78 2.05 0 2.83L4 21.41c.39.39.9.59 1.41.59.51 0 1.02-.2 1.41-.59l7.78-7.78 2.81-2.81c.8-.78.8-2.07 0-2.86zM5.41 20L4 18.59l7.72-7.72 1.47 1.35L5.41 20z\"/>\n",
              "  </svg>\n",
              "      </button>\n",
              "      \n",
              "  <style>\n",
              "    .colab-df-container {\n",
              "      display:flex;\n",
              "      flex-wrap:wrap;\n",
              "      gap: 12px;\n",
              "    }\n",
              "\n",
              "    .colab-df-convert {\n",
              "      background-color: #E8F0FE;\n",
              "      border: none;\n",
              "      border-radius: 50%;\n",
              "      cursor: pointer;\n",
              "      display: none;\n",
              "      fill: #1967D2;\n",
              "      height: 32px;\n",
              "      padding: 0 0 0 0;\n",
              "      width: 32px;\n",
              "    }\n",
              "\n",
              "    .colab-df-convert:hover {\n",
              "      background-color: #E2EBFA;\n",
              "      box-shadow: 0px 1px 2px rgba(60, 64, 67, 0.3), 0px 1px 3px 1px rgba(60, 64, 67, 0.15);\n",
              "      fill: #174EA6;\n",
              "    }\n",
              "\n",
              "    [theme=dark] .colab-df-convert {\n",
              "      background-color: #3B4455;\n",
              "      fill: #D2E3FC;\n",
              "    }\n",
              "\n",
              "    [theme=dark] .colab-df-convert:hover {\n",
              "      background-color: #434B5C;\n",
              "      box-shadow: 0px 1px 3px 1px rgba(0, 0, 0, 0.15);\n",
              "      filter: drop-shadow(0px 1px 2px rgba(0, 0, 0, 0.3));\n",
              "      fill: #FFFFFF;\n",
              "    }\n",
              "  </style>\n",
              "\n",
              "      <script>\n",
              "        const buttonEl =\n",
              "          document.querySelector('#df-270d5c81-bc9e-4b7c-8f36-116934f48bf0 button.colab-df-convert');\n",
              "        buttonEl.style.display =\n",
              "          google.colab.kernel.accessAllowed ? 'block' : 'none';\n",
              "\n",
              "        async function convertToInteractive(key) {\n",
              "          const element = document.querySelector('#df-270d5c81-bc9e-4b7c-8f36-116934f48bf0');\n",
              "          const dataTable =\n",
              "            await google.colab.kernel.invokeFunction('convertToInteractive',\n",
              "                                                     [key], {});\n",
              "          if (!dataTable) return;\n",
              "\n",
              "          const docLinkHtml = 'Like what you see? Visit the ' +\n",
              "            '<a target=\"_blank\" href=https://colab.research.google.com/notebooks/data_table.ipynb>data table notebook</a>'\n",
              "            + ' to learn more about interactive tables.';\n",
              "          element.innerHTML = '';\n",
              "          dataTable['output_type'] = 'display_data';\n",
              "          await google.colab.output.renderOutput(dataTable, element);\n",
              "          const docLink = document.createElement('div');\n",
              "          docLink.innerHTML = docLinkHtml;\n",
              "          element.appendChild(docLink);\n",
              "        }\n",
              "      </script>\n",
              "    </div>\n",
              "  </div>\n",
              "  "
            ]
          },
          "metadata": {},
          "execution_count": 36
        }
      ]
    },
    {
      "cell_type": "code",
      "source": [
        "plt.plot(np.arange(1,7),model.predict(independent),label='predict')\n",
        "plt.plot(np.arange(1,7),dependent,label='real')\n",
        "\n",
        "plt.legend()\n",
        "plt.show()"
      ],
      "metadata": {
        "colab": {
          "base_uri": "https://localhost:8080/",
          "height": 265
        },
        "id": "1lZlYm1cwKhG",
        "outputId": "bb600828-ad80-45a1-97a7-cf5529857219"
      },
      "execution_count": 37,
      "outputs": [
        {
          "output_type": "display_data",
          "data": {
            "text/plain": [
              "<Figure size 432x288 with 1 Axes>"
            ],
            "image/png": "[encoded data removed]"
          },
          "metadata": {
            "needs_background": "light"
          }
        }
      ]
    },
    {
      "cell_type": "markdown",
      "source": [
        "## 복잡 데이터의 히든 레이어\n",
        "단순 데이터처럼 일직선의 그래프가 나타나는 것이 아닌, 울퉁불퉁한 곡선 형태로 나타나는 그래프에 해당하는 경우이다."
      ],
      "metadata": {
        "id": "yr1IvG8L1lxx"
      }
    },
    {
      "cell_type": "code",
      "source": [
        "advertise=[np.random.randint(10,50)+np.log(i*5)*50 for i in range(1,101)]\n",
        "season=[np.sin(i/3)*100+i*3+j*2 for i,j in zip(np.arange(1,101),advertise)]\n",
        "sales=[i**(np.log(np.log(i)))+j for i,j in zip(np.arange(1,101),season)]\n",
        "\n",
        "plt.plot(np.arange(1,101),advertise,label=\"advertise\")\n",
        "plt.plot(np.arange(1,101),season,label=\"season\")\n",
        "plt.plot(np.arange(1,101),sales,label=\"sales\")\n",
        "\n",
        "plt.legend()\n",
        "plt.show()"
      ],
      "metadata": {
        "colab": {
          "base_uri": "https://localhost:8080/",
          "height": 302
        },
        "id": "9UPY_pcs4vMt",
        "outputId": "e2e013a5-3b57-4c2f-e386-2e8b47fe75c2"
      },
      "execution_count": 38,
      "outputs": [
        {
          "output_type": "stream",
          "name": "stderr",
          "text": [
            "/usr/local/lib/python3.7/dist-packages/ipykernel_launcher.py:3: RuntimeWarning: divide by zero encountered in log\n",
            "  This is separate from the ipykernel package so we can avoid doing imports until\n"
          ]
        },
        {
          "output_type": "display_data",
          "data": {
            "text/plain": [
              "<Figure size 432x288 with 1 Axes>"
            ],
            "image/png": "[encoded data removed]"
          },
          "metadata": {
            "needs_background": "light"
          }
        }
      ]
    },
    {
      "cell_type": "code",
      "source": [
        "independent=pd.DataFrame({\n",
        "    'season':season,\n",
        "    'advertise':advertise\n",
        "})\n",
        "dependent=pd.DataFrame({\n",
        "    'sales':sales\n",
        "})\n",
        "independent.shape,dependent.shape"
      ],
      "metadata": {
        "colab": {
          "base_uri": "https://localhost:8080/"
        },
        "id": "zXRAVJeNE6nY",
        "outputId": "0fefb11b-9bbb-4378-97ae-759ddec1c77f"
      },
      "execution_count": 39,
      "outputs": [
        {
          "output_type": "execute_result",
          "data": {
            "text/plain": [
              "((100, 2), (100, 1))"
            ]
          },
          "metadata": {},
          "execution_count": 39
        }
      ]
    },
    {
      "cell_type": "markdown",
      "source": [
        "### 노트 수, Hidden Layer 수 비교하기"
      ],
      "metadata": {
        "id": "u6e6mrDRLXhC"
      }
    },
    {
      "cell_type": "code",
      "source": [
        "X=tf.keras.layers.Input(shape=[2])\n",
        "H=tf.keras.layers.Dense(200,activation='swish')(X)\n",
        "H=tf.keras.layers.Dense(200,activation='swish')(H)\n",
        "Y=tf.keras.layers.Dense(1)(H)\n",
        "model=tf.keras.models.Model(X,Y)\n",
        "model.compile(loss='mse')"
      ],
      "metadata": {
        "id": "0G8-Z7aDFVTD"
      },
      "execution_count": 50,
      "outputs": []
    },
    {
      "cell_type": "code",
      "source": [
        "model.fit(independent,dependent,epochs=10000,verbose=0)\n",
        "model.fit(independent,dependent,epochs=10)"
      ],
      "metadata": {
        "colab": {
          "base_uri": "https://localhost:8080/"
        },
        "id": "kmSgBSanFsN0",
        "outputId": "f8f8db1d-00db-4b1a-801b-0e673bbbc611"
      },
      "execution_count": 51,
      "outputs": [
        {
          "output_type": "stream",
          "name": "stdout",
          "text": [
            "Epoch 1/10\n",
            "4/4 [==============================] - 0s 3ms/step - loss: 38885.2383\n",
            "Epoch 2/10\n",
            "4/4 [==============================] - 0s 3ms/step - loss: 40829.7695\n",
            "Epoch 3/10\n",
            "4/4 [==============================] - 0s 3ms/step - loss: 52384.8047\n",
            "Epoch 4/10\n",
            "4/4 [==============================] - 0s 3ms/step - loss: 42381.2109\n",
            "Epoch 5/10\n",
            "4/4 [==============================] - 0s 3ms/step - loss: 36334.9141\n",
            "Epoch 6/10\n",
            "4/4 [==============================] - 0s 3ms/step - loss: 38842.0039\n",
            "Epoch 7/10\n",
            "4/4 [==============================] - 0s 5ms/step - loss: 34823.7266\n",
            "Epoch 8/10\n",
            "4/4 [==============================] - 0s 5ms/step - loss: 38180.4414\n",
            "Epoch 9/10\n",
            "4/4 [==============================] - 0s 4ms/step - loss: 36837.5117\n",
            "Epoch 10/10\n",
            "4/4 [==============================] - 0s 3ms/step - loss: 47212.8242\n"
          ]
        },
        {
          "output_type": "execute_result",
          "data": {
            "text/plain": [
              "<keras.callbacks.History at 0x7fc4f7791150>"
            ]
          },
          "metadata": {},
          "execution_count": 51
        }
      ]
    },
    {
      "cell_type": "markdown",
      "source": [
        "#### 예측하기\n",
        "Hidden Layer:1개당 node 2개\n",
        "<br>총 Hidden Layer 1개"
      ],
      "metadata": {
        "id": "v9vehGjnH-W4"
      }
    },
    {
      "cell_type": "code",
      "source": [
        "plt.plot(np.arange(1,101),model.predict(independent),label=\"predict\")\n",
        "plt.plot(np.arange(1,101),dependent,label=\"real\")\n",
        "\n",
        "plt.legend()\n",
        "plt.show()"
      ],
      "metadata": {
        "colab": {
          "base_uri": "https://localhost:8080/",
          "height": 265
        },
        "id": "8km_i6hUHrqY",
        "outputId": "e7df0d4b-e3c5-40fe-c481-8efc25979187"
      },
      "execution_count": 43,
      "outputs": [
        {
          "output_type": "display_data",
          "data": {
            "text/plain": [
              "<Figure size 432x288 with 1 Axes>"
            ],
            "image/png": "[encoded data removed]"
          },
          "metadata": {
            "needs_background": "light"
          }
        }
      ]
    },
    {
      "cell_type": "markdown",
      "source": [
        "#### 예측하기\n",
        "Hidden Layer:1개당 node 200개\n",
        "<br>총 Hidden Layer 1개"
      ],
      "metadata": {
        "id": "rEsZdgqGIZR1"
      }
    },
    {
      "cell_type": "code",
      "source": [
        "plt.plot(np.arange(1,101),model.predict(independent),label=\"predict\")\n",
        "plt.plot(np.arange(1,101),dependent,label=\"real\")\n",
        "\n",
        "plt.legend()\n",
        "plt.show()"
      ],
      "metadata": {
        "colab": {
          "base_uri": "https://localhost:8080/",
          "height": 265
        },
        "id": "gE6S4dEyIIvu",
        "outputId": "94074b2c-eed2-4dbd-846f-592ea2978ebd"
      },
      "execution_count": 48,
      "outputs": [
        {
          "output_type": "display_data",
          "data": {
            "text/plain": [
              "<Figure size 432x288 with 1 Axes>"
            ],
            "image/png": "[encoded data removed]"
          },
          "metadata": {
            "needs_background": "light"
          }
        }
      ]
    },
    {
      "cell_type": "markdown",
      "source": [
        "#### 예측하기\n",
        "Hidden Layer:1개당 200개\n",
        "<br>총 Hidden Layer 2개"
      ],
      "metadata": {
        "id": "QCFQixqFKu_L"
      }
    },
    {
      "cell_type": "code",
      "source": [
        "plt.plot(np.arange(1,101),model.predict(independent),label=\"predict\")\n",
        "plt.plot(np.arange(1,101),dependent,label=\"real\")\n",
        "\n",
        "plt.legend()\n",
        "plt.show()"
      ],
      "metadata": {
        "colab": {
          "base_uri": "https://localhost:8080/",
          "height": 265
        },
        "id": "7D3eQGhjKtY2",
        "outputId": "1eaa5742-3c16-440d-c07e-97ef2467efe2"
      },
      "execution_count": 52,
      "outputs": [
        {
          "output_type": "display_data",
          "data": {
            "text/plain": [
              "<Figure size 432x288 with 1 Axes>"
            ],
            "image/png": "[encoded data removed]"
          },
          "metadata": {
            "needs_background": "light"
          }
        }
      ]
    },
    {
      "cell_type": "markdown",
      "source": [
        "### Hidden Layer 수 증가하며 비교하기"
      ],
      "metadata": {
        "id": "qKBqhg-3LncA"
      }
    },
    {
      "cell_type": "code",
      "source": [
        "X=tf.keras.layers.Input(shape=[2])\n",
        "H=tf.keras.layers.Dense(5,activation='swish')(X)\n",
        "for _ in range(10):\n",
        "  H=tf.keras.layers.Dense(5,activation='swish')(H)\n",
        "Y=tf.keras.layers.Dense(1)(H)\n",
        "model=tf.keras.models.Model(X,Y)\n",
        "model.compile(loss='mse')"
      ],
      "metadata": {
        "id": "x8tQk1unIe39"
      },
      "execution_count": 65,
      "outputs": []
    },
    {
      "cell_type": "code",
      "source": [
        "model.fit(independent,dependent,epochs=10000,verbose=0)\n",
        "model.fit(independent,dependent,epochs=10)"
      ],
      "metadata": {
        "colab": {
          "base_uri": "https://localhost:8080/"
        },
        "id": "W7yumbmPJ2ic",
        "outputId": "1b35ab6f-f9ba-43ee-d422-6db43b1af080"
      },
      "execution_count": 66,
      "outputs": [
        {
          "output_type": "stream",
          "name": "stdout",
          "text": [
            "Epoch 1/10\n",
            "4/4 [==============================] - 0s 4ms/step - loss: 31890.9727\n",
            "Epoch 2/10\n",
            "4/4 [==============================] - 0s 3ms/step - loss: 28844.4629\n",
            "Epoch 3/10\n",
            "4/4 [==============================] - 0s 3ms/step - loss: 26767.9824\n",
            "Epoch 4/10\n",
            "4/4 [==============================] - 0s 3ms/step - loss: 29852.2480\n",
            "Epoch 5/10\n",
            "4/4 [==============================] - 0s 3ms/step - loss: 29071.0859\n",
            "Epoch 6/10\n",
            "4/4 [==============================] - 0s 4ms/step - loss: 26779.4609\n",
            "Epoch 7/10\n",
            "4/4 [==============================] - 0s 4ms/step - loss: 27117.5078\n",
            "Epoch 8/10\n",
            "4/4 [==============================] - 0s 3ms/step - loss: 26822.9941\n",
            "Epoch 9/10\n",
            "4/4 [==============================] - 0s 4ms/step - loss: 29655.8555\n",
            "Epoch 10/10\n",
            "4/4 [==============================] - 0s 3ms/step - loss: 29561.6777\n"
          ]
        },
        {
          "output_type": "execute_result",
          "data": {
            "text/plain": [
              "<keras.callbacks.History at 0x7fc4f0be8110>"
            ]
          },
          "metadata": {},
          "execution_count": 66
        }
      ]
    },
    {
      "cell_type": "markdown",
      "source": [
        "#### 예측하기\n",
        "총 Hidden Layer 1개"
      ],
      "metadata": {
        "id": "atqAs5REMA8M"
      }
    },
    {
      "cell_type": "code",
      "source": [
        "plt.plot(np.arange(1,101),model.predict(independent),label=\"predict\")\n",
        "plt.plot(np.arange(1,101),dependent,label=\"real\")\n",
        "\n",
        "plt.legend()\n",
        "plt.show()"
      ],
      "metadata": {
        "colab": {
          "base_uri": "https://localhost:8080/",
          "height": 265
        },
        "id": "NCg7RL9aL-Za",
        "outputId": "61e90d5c-832c-4138-b8fb-28c2a24af8d1"
      },
      "execution_count": 55,
      "outputs": [
        {
          "output_type": "display_data",
          "data": {
            "text/plain": [
              "<Figure size 432x288 with 1 Axes>"
            ],
            "image/png": "[encoded data removed]"
          },
          "metadata": {
            "needs_background": "light"
          }
        }
      ]
    },
    {
      "cell_type": "markdown",
      "source": [
        "#### 예측하기\n",
        "총 Hidden Layer 3개"
      ],
      "metadata": {
        "id": "_j3A5FVHM5fk"
      }
    },
    {
      "cell_type": "code",
      "source": [
        "plt.plot(np.arange(1,101),model.predict(independent),label=\"predict\")\n",
        "plt.plot(np.arange(1,101),dependent,label=\"real\")\n",
        "\n",
        "plt.legend()\n",
        "plt.show()"
      ],
      "metadata": {
        "colab": {
          "base_uri": "https://localhost:8080/",
          "height": 265
        },
        "id": "N3RjRsPDMweM",
        "outputId": "ad30223a-d806-40fb-8c57-af08025c5da0"
      },
      "execution_count": 61,
      "outputs": [
        {
          "output_type": "display_data",
          "data": {
            "text/plain": [
              "<Figure size 432x288 with 1 Axes>"
            ],
            "image/png": "[encoded data removed]"
          },
          "metadata": {
            "needs_background": "light"
          }
        }
      ]
    },
    {
      "cell_type": "markdown",
      "source": [
        "#### 예측하기\n",
        "총 Hidden Layer 5개"
      ],
      "metadata": {
        "id": "RfDjRXrQNPQ0"
      }
    },
    {
      "cell_type": "code",
      "source": [
        "plt.plot(np.arange(1,101),model.predict(independent),label=\"predict\")\n",
        "plt.plot(np.arange(1,101),dependent,label=\"real\")\n",
        "\n",
        "plt.legend()\n",
        "plt.show()"
      ],
      "metadata": {
        "colab": {
          "base_uri": "https://localhost:8080/",
          "height": 265
        },
        "id": "o_nzP71rNSbV",
        "outputId": "ceddef04-2601-4a03-b108-b4f381b981a0"
      },
      "execution_count": 64,
      "outputs": [
        {
          "output_type": "display_data",
          "data": {
            "text/plain": [
              "<Figure size 432x288 with 1 Axes>"
            ],
            "image/png": "[encoded data removed]"
          },
          "metadata": {
            "needs_background": "light"
          }
        }
      ]
    },
    {
      "cell_type": "markdown",
      "source": [
        "#### 예측하기\n",
        "총 Hidden Layer 10개"
      ],
      "metadata": {
        "id": "wbNQJAntOGZL"
      }
    },
    {
      "cell_type": "code",
      "source": [
        "plt.plot(np.arange(1,101),model.predict(independent),label=\"predict\")\n",
        "plt.plot(np.arange(1,101),dependent,label=\"real\")\n",
        "\n",
        "plt.legend()\n",
        "plt.show()"
      ],
      "metadata": {
        "colab": {
          "base_uri": "https://localhost:8080/",
          "height": 265
        },
        "id": "GGjUSDnLOJuF",
        "outputId": "dc45c0a0-04ee-436a-c01b-b2530174ceaa"
      },
      "execution_count": 67,
      "outputs": [
        {
          "output_type": "display_data",
          "data": {
            "text/plain": [
              "<Figure size 432x288 with 1 Axes>"
            ],
            "image/png": "[encoded data removed]"
          },
          "metadata": {
            "needs_background": "light"
          }
        }
      ]
    },
    {
      "cell_type": "markdown",
      "source": [
        "### 실제 사용\n",
        "+ Hidden Layer: 1-4개 쌓고 정확도 측정\n",
        "+ Node: 100-200개 쌓고 정확도 측정\n",
        "+ 은닉 단위의 설계(심층학습, 제이펍, 211page)는 결정적인 이론이 나오지 않아 직접 시도하는 경우가 대부분이다."
      ],
      "metadata": {
        "id": "_rS8HrpOPReY"
      }
    },
    {
      "cell_type": "markdown",
      "source": [
        "# 최종적인 정리"
      ],
      "metadata": {
        "id": "Qa7sKDCsSxyH"
      }
    },
    {
      "cell_type": "markdown",
      "source": [
        "## 기계학습과 딥러닝 분류\n",
        "1. 기계학습(Machine learning) > 딥러닝(Deep learning)\n",
        "\n",
        "2. 기계학습\n",
        "+ 지도학습(Supervised learning)\n",
        "  - 분류(Classification)\n",
        "  - 회귀(Regression)\n",
        "+ 비지도 학습(Unsupervised learning)\n",
        "+ 강화 학습(Reinforcement learning)\n",
        "  - 군집화(Clustering)\n",
        "  - 변환(Transform)\n",
        "  - 연관(Association)\n",
        "\n",
        "3. 지도학습\n",
        "+ 분류\n",
        "  - kNN\n",
        "  - Naive Bayes\n",
        "  - Support Vector\n",
        "  - Machine Decision\n",
        "+ 회귀\n",
        "  - Linear Regression\n",
        "  - Locally Weighted Linear\n",
        "  - Ridge\n",
        "  - Lasso\n",
        "\n",
        "4. 비지도학습\n",
        "+ Clustering\n",
        "+ K Means\n",
        "+ Density Estimation\n",
        "+ Exception Maximization\n",
        "+ Pazen Window\n",
        "+ DBSCAN\n",
        "\n",
        "5. 강화학습\n",
        "+ MDP\n",
        "+ DQN\n",
        "+ A3C"
      ],
      "metadata": {
        "id": "UsQkAwF4Pwv9"
      }
    },
    {
      "cell_type": "markdown",
      "source": [
        "## 결론\n",
        "+ 머신러닝\n",
        "<br>수학 수식을 경험에 의해 개선시키는 것이다.\n",
        "+ 딥러닝\n",
        "<br>머신러닝 중에서 신경망(y=wx+b)을 본떠서 만든 것이다."
      ],
      "metadata": {
        "id": "5StfFS5uRkah"
      }
    }
  ]
}