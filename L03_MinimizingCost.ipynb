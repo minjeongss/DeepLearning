{
  "nbformat": 4,
  "nbformat_minor": 0,
  "metadata": {
    "colab": {
      "name": "L03_MinimizingCost.ipynb",
      "provenance": [],
      "collapsed_sections": [],
      "authorship_tag": "ABX9TyPG/+v08y+QboRX5kVj6Pdx"
    },
    "kernelspec": {
      "name": "python3",
      "display_name": "Python 3"
    },
    "language_info": {
      "name": "python"
    }
  },
  "cells": [
    {
      "cell_type": "markdown",
      "source": [
        "## cost가 최소화되는 W의 위치 찾기"
      ],
      "metadata": {
        "id": "JULsIyFh2EX0"
      }
    },
    {
      "cell_type": "code",
      "execution_count": 2,
      "metadata": {
        "colab": {
          "base_uri": "https://localhost:8080/",
          "height": 279
        },
        "id": "fEvSErZf11Nf",
        "outputId": "444d1114-6901-4bac-d351-8908e692fa67"
      },
      "outputs": [
        {
          "output_type": "display_data",
          "data": {
            "text/plain": [
              "<Figure size 432x288 with 1 Axes>"
            ],
            "image/png": "[encoded data removed]"
          },
          "metadata": {
            "needs_background": "light"
          }
        }
      ],
      "source": [
        "import tensorflow.compat.v1 as tf\n",
        "import matplotlib.pyplot as plt\n",
        "\n",
        "with tf.Session() as sess:\n",
        "  X=[1,2,3]\n",
        "  Y=[1,2,3]\n",
        "  W=tf.placeholder(tf.float32)\n",
        "\n",
        "  hypothesis=W*X\n",
        "  cost=tf.reduce_mean(tf.square(hypothesis-Y))\n",
        "\n",
        "  sess.run(tf.global_variables_initializer())\n",
        "\n",
        "  W_val=[]\n",
        "  cost_val=[]\n",
        "\n",
        "  for i in range(-30,50):\n",
        "    feed_W=i*0.1\n",
        "    curr_cost,curr_W=sess.run([cost,W],feed_dict={W:feed_W})\n",
        "    W_val.append(curr_W)\n",
        "    cost_val.append(curr_cost)\n",
        "\n",
        "plt.plot(W_val,cost_val)\n",
        "plt.xlabel('W')\n",
        "plt.ylabel('cost(W)')\n",
        "plt.show()"
      ]
    },
    {
      "cell_type": "markdown",
      "source": [
        "## 최적의 W 찾기\n",
        ": 컴퓨터가 스스로 최적의 W을 찾아내도록"
      ],
      "metadata": {
        "id": "RuLtg3gi3sAx"
      }
    },
    {
      "cell_type": "markdown",
      "source": [
        "### 1. 수동으로 Gradient descent 적용하여 계산하기\n",
        ": 직접 미분해줌"
      ],
      "metadata": {
        "id": "zEgcq-Hu4Ep1"
      }
    },
    {
      "cell_type": "code",
      "source": [
        "import tensorflow.compat.v1 as tf\n",
        "import matplotlib.pyplot as plt\n",
        "\n",
        "with tf.Session() as sess:\n",
        "  x_data=[1,2,3]\n",
        "  y_data=[1,2,3]\n",
        "\n",
        "  W=tf.Variable(tf.random_normal([1]),name='weight')\n",
        "  X=tf.placeholder(tf.float32)\n",
        "  Y=tf.placeholder(tf.float32)\n",
        "\n",
        "  hypothesis=W*X\n",
        "  cost=tf.reduce_sum(tf.square(hypothesis-Y))\n",
        "\n",
        "  #Minimize: Using Gradient Descent\n",
        "  learning_rate=0.1\n",
        "  gradient=tf.reduce_mean((W*X-Y)*X)\n",
        "  descent=W-learning_rate*gradient\n",
        "  update=W.assign(descent)\n",
        "\n",
        "  sess.run(tf.global_variables_initializer())\n",
        "\n",
        "  for step in range(21):\n",
        "    sess.run(update,feed_dict={X:x_data,Y:y_data})\n",
        "    print(step, sess.run(cost,feed_dict={X:x_data,Y:y_data}),sess.run(W))"
      ],
      "metadata": {
        "colab": {
          "base_uri": "https://localhost:8080/"
        },
        "id": "gn5RxBhK3zeg",
        "outputId": "0373d8ad-1eee-4dfb-e296-97a8a98fe5c8"
      },
      "execution_count": 4,
      "outputs": [
        {
          "output_type": "stream",
          "name": "stdout",
          "text": [
            "0 2.5865698 [0.5701687]\n",
            "1 0.7357352 [0.77075666]\n",
            "2 0.20927578 [0.87773687]\n",
            "3 0.05952735 [0.934793]\n",
            "4 0.016932175 [0.96522295]\n",
            "5 0.004816279 [0.9814522]\n",
            "6 0.0013699657 [0.99010783]\n",
            "7 0.00038968743 [0.99472415]\n",
            "8 0.00011084015 [0.99718624]\n",
            "9 3.152852e-05 [0.99849933]\n",
            "10 8.968316e-06 [0.9991996]\n",
            "11 2.551578e-06 [0.9995731]\n",
            "12 7.2579667e-07 [0.9997723]\n",
            "13 2.064247e-07 [0.9998786]\n",
            "14 5.8614503e-08 [0.99993527]\n",
            "15 1.6661875e-08 [0.9999655]\n",
            "16 4.7556235e-09 [0.9999816]\n",
            "17 1.3576376e-09 [0.99999017]\n",
            "18 3.85171e-10 [0.99999475]\n",
            "19 1.0887291e-10 [0.9999972]\n",
            "20 3.1622704e-11 [0.9999985]\n"
          ]
        }
      ]
    },
    {
      "cell_type": "markdown",
      "source": [
        "### 2. 자동으로 계산하기\n",
        ": 미분 계산할 필요가 없음"
      ],
      "metadata": {
        "id": "5_o-r1UA57LJ"
      }
    },
    {
      "cell_type": "code",
      "source": [
        "import tensorflow.compat.v1 as tf\n",
        "import matplotlib.pyplot as plt\n",
        "\n",
        "with tf.Session() as sess:\n",
        "  X=[1,2,3]\n",
        "  Y=[1,2,3]\n",
        "\n",
        "  #W=tf.Variable(5.0)\n",
        "  W=tf.Variable(-3.0)\n",
        "\n",
        "  hypothesis=W*X\n",
        "  cost=tf.reduce_mean(tf.square(hypothesis-Y))\n",
        "  \n",
        "  #Minimize\n",
        "  optimizer=tf.train.GradientDescentOptimizer(learning_rate=0.1)\n",
        "  train=optimizer.minimize(cost)\n",
        "\n",
        "  sess.run(tf.global_variables_initializer())\n",
        "\n",
        "  for step in range(21):\n",
        "    print(step, sess.run(W))\n",
        "    sess.run(train)"
      ],
      "metadata": {
        "colab": {
          "base_uri": "https://localhost:8080/"
        },
        "id": "EohJmvY45-kx",
        "outputId": "0cafc35b-e50e-4e2c-e860-23c36a4b529b"
      },
      "execution_count": 6,
      "outputs": [
        {
          "output_type": "stream",
          "name": "stdout",
          "text": [
            "0 -3.0\n",
            "1 0.73333365\n",
            "2 0.98222226\n",
            "3 0.9988148\n",
            "4 0.99992096\n",
            "5 0.9999947\n",
            "6 0.99999964\n",
            "7 0.99999994\n",
            "8 1.0\n",
            "9 1.0\n",
            "10 1.0\n",
            "11 1.0\n",
            "12 1.0\n",
            "13 1.0\n",
            "14 1.0\n",
            "15 1.0\n",
            "16 1.0\n",
            "17 1.0\n",
            "18 1.0\n",
            "19 1.0\n",
            "20 1.0\n"
          ]
        }
      ]
    },
    {
      "cell_type": "markdown",
      "source": [
        "**W의 초기값**이 어떠한 수가 들어가더라도, 최종적으로 최소의 cost에 해당하는 W를 찾을 수 있음."
      ],
      "metadata": {
        "id": "aDOC3Wb77Sot"
      }
    },
    {
      "cell_type": "markdown",
      "source": [
        "### 2-1. 자동으로 계산할 때, Gradient를 수정하고 싶은 경우"
      ],
      "metadata": {
        "id": "JYHiwo8966Z7"
      }
    },
    {
      "cell_type": "code",
      "source": [
        "import tensorflow.compat.v1 as tf\n",
        "import matplotlib.pyplot as plt\n",
        "\n",
        "with tf.Session() as sess:\n",
        "  X=[1,2,3]\n",
        "  Y=[1,2,3]\n",
        "\n",
        "  W=tf.Variable(5.0)\n",
        "  \n",
        "  hypothesis=W*X\n",
        "  cost=tf.reduce_mean(tf.square(hypothesis-Y))\n",
        "\n",
        "  #Minimize\n",
        "  optimizer=tf.train.GradientDescentOptimizer(learning_rate=0.1)\n",
        "  \n",
        "  #Gradient 수정\n",
        "  gvs=optimizer.compute_gradients(cost,[W])\n",
        "  #### 수정하기 ####\n",
        "  apply_gradients=optimizer.apply_gradients(gvs)\n",
        "\n",
        "  sess.run(tf.global_variables_initializer())\n",
        "\n",
        "  for step in range(21):\n",
        "    print(step, sess.run(gvs))\n",
        "    sess.run(apply_gradients)"
      ],
      "metadata": {
        "colab": {
          "base_uri": "https://localhost:8080/"
        },
        "id": "oyjD0Z_z6_wR",
        "outputId": "613ce582-3631-4b63-8920-2bba337c5471"
      },
      "execution_count": 9,
      "outputs": [
        {
          "output_type": "stream",
          "name": "stdout",
          "text": [
            "0 [(37.333336, 5.0)]\n",
            "1 [(2.4888866, 1.2666664)]\n",
            "2 [(0.1659259, 1.0177778)]\n",
            "3 [(0.011061668, 1.0011852)]\n",
            "4 [(0.00073742867, 1.000079)]\n",
            "5 [(4.8955284e-05, 1.0000052)]\n",
            "6 [(3.0994415e-06, 1.0000004)]\n",
            "7 [(0.0, 1.0)]\n",
            "8 [(0.0, 1.0)]\n",
            "9 [(0.0, 1.0)]\n",
            "10 [(0.0, 1.0)]\n",
            "11 [(0.0, 1.0)]\n",
            "12 [(0.0, 1.0)]\n",
            "13 [(0.0, 1.0)]\n",
            "14 [(0.0, 1.0)]\n",
            "15 [(0.0, 1.0)]\n",
            "16 [(0.0, 1.0)]\n",
            "17 [(0.0, 1.0)]\n",
            "18 [(0.0, 1.0)]\n",
            "19 [(0.0, 1.0)]\n",
            "20 [(0.0, 1.0)]\n"
          ]
        }
      ]
    },
    {
      "cell_type": "markdown",
      "source": [
        "### 3. 수동으로 계산한 결과와 자동으로 계산한 결과의 차이"
      ],
      "metadata": {
        "id": "0m8Mxvzl8GmT"
      }
    },
    {
      "cell_type": "code",
      "source": [
        "import tensorflow.compat.v1 as tf\n",
        "import matplotlib.pyplot as plt\n",
        "\n",
        "with tf.Session() as sess:\n",
        "  X=[1,2,3]\n",
        "  Y=[1,2,3]\n",
        "\n",
        "  W=tf.Variable(5.0)\n",
        "  \n",
        "  hypothesis=W*X\n",
        "\n",
        "  #수동으로 계산한 Gradient\n",
        "  gradient=tf.reduce_mean((W*X-Y)*X)*2\n",
        "\n",
        "  #자동으로 계산한 Gradient\n",
        "  cost=tf.reduce_mean(tf.square(hypothesis-Y))\n",
        "\n",
        "  #Minimize\n",
        "  optimizer=tf.train.GradientDescentOptimizer(learning_rate=0.01)\n",
        "  \n",
        "  #Gradient 수정\n",
        "  gvs=optimizer.compute_gradients(cost,[W])\n",
        "  #### 수정하기 ####\n",
        "  apply_gradients=optimizer.apply_gradients(gvs)\n",
        "\n",
        "  sess.run(tf.global_variables_initializer())\n",
        "\n",
        "  for step in range(100):\n",
        "    if step%10==0:\n",
        "      print(step, sess.run([gradient,W,gvs]))\n",
        "    sess.run(apply_gradients)"
      ],
      "metadata": {
        "colab": {
          "base_uri": "https://localhost:8080/"
        },
        "id": "lOfZgovR8KBq",
        "outputId": "6001777a-ae2e-4ef0-99c1-3f96ba60c51d"
      },
      "execution_count": 16,
      "outputs": [
        {
          "output_type": "stream",
          "name": "stdout",
          "text": [
            "0 [37.333332, 5.0, [(37.333336, 5.0)]]\n",
            "10 [14.014362, 2.5015388, [(14.014362, 2.5015388)]]\n",
            "20 [5.2607765, 1.5636547, [(5.2607765, 1.5636547)]]\n",
            "30 [1.9748148, 1.2115873, [(1.9748147, 1.2115873)]]\n",
            "40 [0.7413165, 1.0794268, [(0.7413165, 1.0794268)]]\n",
            "50 [0.27827826, 1.0298156, [(0.2782783, 1.0298156)]]\n",
            "60 [0.10446167, 1.0111923, [(0.10446167, 1.0111923)]]\n",
            "70 [0.03921318, 1.0042014, [(0.03921318, 1.0042014)]]\n",
            "80 [0.014720838, 1.0015773, [(0.014720838, 1.0015773)]]\n",
            "90 [0.005525271, 1.000592, [(0.0055252714, 1.000592)]]\n"
          ]
        }
      ]
    },
    {
      "cell_type": "markdown",
      "source": [
        "차례대로 수동의 gradient, W,자동의 gradient, W이다.<br>\n",
        "즉, **수동**으로 계산한 결과와 **자동**으로 계산한 결과는 **동일하다.**"
      ],
      "metadata": {
        "id": "Kvy1EE5e-NKL"
      }
    }
  ]
}