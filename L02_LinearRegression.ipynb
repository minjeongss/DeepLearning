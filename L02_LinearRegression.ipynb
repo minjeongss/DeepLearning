{
  "nbformat": 4,
  "nbformat_minor": 0,
  "metadata": {
    "colab": {
      "name": "L02_LinearRegression.ipynb",
      "provenance": [],
      "collapsed_sections": [],
      "authorship_tag": "ABX9TyNNsPTjhrK9dtUevaVifEZk"
    },
    "kernelspec": {
      "name": "python3",
      "display_name": "Python 3"
    },
    "language_info": {
      "name": "python"
    }
  },
  "cells": [
    {
      "cell_type": "markdown",
      "source": [
        "## 1. 직접 값을 넣어 그래프를 실행시키는 방법"
      ],
      "metadata": {
        "id": "9GegU0EAxoBP"
      }
    },
    {
      "cell_type": "code",
      "execution_count": 3,
      "metadata": {
        "colab": {
          "base_uri": "https://localhost:8080/"
        },
        "id": "q_VyIJtGmjyF",
        "outputId": "110c4837-c79b-40ff-95ab-2e4dac4f573e"
      },
      "outputs": [
        {
          "output_type": "stream",
          "name": "stdout",
          "text": [
            "0 10.616041 [-0.54600304] [0.08823781]\n",
            "100 0.036736928 [0.77737874] [0.5060436]\n",
            "200 0.022701202 [0.8250072] [0.39779997]\n",
            "300 0.014027941 [0.86243975] [0.31270686]\n",
            "400 0.008668416 [0.8918651] [0.24581605]\n",
            "500 0.0053565535 [0.91499615] [0.19323377]\n",
            "600 0.0033100247 [0.93317926] [0.15189926]\n",
            "700 0.0020453923 [0.9474728] [0.11940668]\n",
            "800 0.0012639331 [0.9587087] [0.09386463]\n",
            "900 0.0007810313 [0.96754134] [0.07378618]\n",
            "1000 0.00048262978 [0.9744846] [0.05800256]\n",
            "1100 0.00029823484 [0.97994274] [0.04559525]\n",
            "1200 0.00018429063 [0.9842331] [0.03584193]\n",
            "1300 0.00011388063 [0.98760575] [0.02817504]\n",
            "1400 7.037118e-05 [0.9902571] [0.02214826]\n",
            "1500 4.3484888e-05 [0.9923411] [0.01741047]\n",
            "1600 2.6870983e-05 [0.99397945] [0.01368619]\n",
            "1700 1.6605005e-05 [0.9952673] [0.01075861]\n",
            "1800 1.0260813e-05 [0.99627966] [0.00845725]\n",
            "1900 6.3406055e-06 [0.99707544] [0.00664812]\n",
            "2000 3.9180827e-06 [0.99770105] [0.00522599]\n"
          ]
        }
      ],
      "source": [
        "import tensorflow.compat.v1 as tf\n",
        "\n",
        "#random\n",
        "tf.set_random_seed(777)\n",
        "\n",
        "with tf.Session() as sess:\n",
        "  #Making Graph\n",
        "  X=[1,2,3]\n",
        "  Y=[1,2,3]\n",
        "  W=tf.Variable(tf.random_normal([1]),name='weight')\n",
        "  b=tf.Variable(tf.random_normal([1]),name='bias')\n",
        "\n",
        "  #htpothesis=> y=Wx+b\n",
        "  hypothesis=X * W + b\n",
        "  #cost/loss function\n",
        "  cost=tf.reduce_mean(tf.square(hypothesis-Y))\n",
        "\n",
        "  #Minimize\n",
        "  optimizer=tf.train.GradientDescentOptimizer(learning_rate=0.01)\n",
        "  train=optimizer.minimize(cost)\n",
        "\n",
        "  #Launch the graph\n",
        "  sess.run(tf.global_variables_initializer())\n",
        "\n",
        "  #Fit the line\n",
        "  for step in range(2001):\n",
        "    _,cost_val,W_val,b_val=sess.run([train,cost,W,b])\n",
        "    #print cost, W,b\n",
        "    if step%100==0:\n",
        "      print(step,cost_val,W_val,b_val)"
      ]
    },
    {
      "cell_type": "markdown",
      "source": [
        "### cost, W, b의 train 후 값\n",
        "+ cost: 대략 0\n",
        "+ W: 대략 1\n",
        "+ b: 대략 0\n",
        "\n",
        "### hypothesis\n",
        "+ y = 1 * x + 0"
      ],
      "metadata": {
        "id": "FesOqhpCfEz_"
      }
    },
    {
      "cell_type": "markdown",
      "source": [
        "## 2. 그래프 틀을 형성하고, 후에 값을 넣어 그래프를 실행시키는 방법"
      ],
      "metadata": {
        "id": "WkoLPJtGxv-y"
      }
    },
    {
      "cell_type": "code",
      "source": [
        "import tensorflow.compat.v1 as tf\n",
        "with tf.Session() as sess:\n",
        "  #Making Graph\n",
        "  X=tf.placeholder(tf.float32,shape=[None])\n",
        "  Y=tf.placeholder(tf.float32,shape=[None])\n",
        "  W=tf.Variable(tf.random_normal([1]),name='weight')\n",
        "  b=tf.Variable(tf.random_normal([1]),name='bias')\n",
        "\n",
        "  #hypothesis=> y=Wx+b\n",
        "  hypothesis = X * W + b\n",
        "  #cost/loss function\n",
        "  cost=tf.reduce_mean(tf.square(hypothesis-Y))\n",
        "\n",
        "  #minimize\n",
        "  optimizer=tf.train.GradientDescentOptimizer(learning_rate=0.01)\n",
        "  train=optimizer.minimize(cost)\n",
        "\n",
        "  #Launch the graph\n",
        "  sess.run(tf.global_variables_initializer())\n",
        "\n",
        "  #Fit the line\n",
        "  for step in range(2001):\n",
        "    _,cost_val,W_val,b_val=sess.run([train,cost,W,b],\n",
        "                                    feed_dict={X:[1,2,3,4,5],\n",
        "                                               Y:[2.1,3.1,4.1,5.1,6.1]})\n",
        "    #print cost, W,b\n",
        "    if step%100==0:\n",
        "      print(step,cost_val,W_val,b_val)"
      ],
      "metadata": {
        "id": "CTuNZlk_x0o1",
        "colab": {
          "base_uri": "https://localhost:8080/"
        },
        "outputId": "78bc7240-10f1-4701-f1b0-81bb40643f37"
      },
      "execution_count": 6,
      "outputs": [
        {
          "output_type": "stream",
          "name": "stdout",
          "text": [
            "0 4.915268 [0.23940374] [1.4431669]\n",
            "100 0.02446307 [0.89845616] [1.4666053]\n",
            "200 0.012426417 [0.9276278] [1.361286]\n",
            "300 0.006312194 [0.94841915] [1.2862232]\n",
            "400 0.003206384 [0.96323735] [1.2327247]\n",
            "500 0.0016287355 [0.97379863] [1.194595]\n",
            "600 0.00082734216 [0.9813258] [1.1674197]\n",
            "700 0.0004202663 [0.9866905] [1.1480514]\n",
            "800 0.00021348121 [0.9905141] [1.1342471]\n",
            "900 0.00010844126 [0.9932392] [1.1244085]\n",
            "1000 5.5086584e-05 [0.9951814] [1.1173965]\n",
            "1100 2.7981921e-05 [0.9965657] [1.1123987]\n",
            "1200 1.4213981e-05 [0.9975523] [1.108837]\n",
            "1300 7.2216017e-06 [0.9982554] [1.1062986]\n",
            "1400 3.6682554e-06 [0.99875647] [1.1044893]\n",
            "1500 1.8637475e-06 [0.9991137] [1.1031998]\n",
            "1600 9.4671594e-07 [0.9993683] [1.1022804]\n",
            "1700 4.8075975e-07 [0.99954987] [1.1016252]\n",
            "1800 2.4427115e-07 [0.9996791] [1.1011584]\n",
            "1900 1.2410942e-07 [0.99977124] [1.1008257]\n",
            "2000 6.305534e-08 [0.9998369] [1.1005886]\n"
          ]
        }
      ]
    },
    {
      "cell_type": "markdown",
      "source": [
        "### cost, W, b의 train 후 값\n",
        "+ cost: 대략 0\n",
        "+ W: 대략 1\n",
        "+ b: 대략 1.1\n",
        "\n",
        "### hypothesis\n",
        "+ y = 1 * x + 1.1"
      ],
      "metadata": {
        "id": "AgKSJsEBf0qN"
      }
    }
  ]
}